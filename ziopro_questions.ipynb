{
 "metadata": {
  "name": "ziopro_questions"
 },
 "nbformat": 3,
 "nbformat_minor": 0,
 "worksheets": [
  {
   "cells": [
    {
     "cell_type": "code",
     "collapsed": false,
     "input": [
      "from pandas import DataFrame\n",
      "import iopro\n",
      "import pandas as pd"
     ],
     "language": "python",
     "metadata": {},
     "outputs": [],
     "prompt_number": 2
    },
    {
     "cell_type": "code",
     "collapsed": false,
     "input": [
      "#I understand how this works\n",
      "df = pd.read_csv('full_data.csv', index_col=0, parse_dates=[0])"
     ],
     "language": "python",
     "metadata": {},
     "outputs": [],
     "prompt_number": 3
    },
    {
     "cell_type": "code",
     "collapsed": false,
     "input": [
      "ta = iopro.text_adapter('full_data.csv')"
     ],
     "language": "python",
     "metadata": {},
     "outputs": [],
     "prompt_number": 4
    },
    {
     "cell_type": "code",
     "collapsed": false,
     "input": [
      "ta_df = ta.to_dataframe()"
     ],
     "language": "python",
     "metadata": {},
     "outputs": [],
     "prompt_number": 5
    },
    {
     "cell_type": "code",
     "collapsed": false,
     "input": [
      "ta_df.shape"
     ],
     "language": "python",
     "metadata": {},
     "outputs": [
      {
       "output_type": "pyout",
       "prompt_number": 7,
       "text": [
        "(17205, 333)"
       ]
      }
     ],
     "prompt_number": 7
    },
    {
     "cell_type": "code",
     "collapsed": false,
     "input": [
      "ta_df.index"
     ],
     "language": "python",
     "metadata": {},
     "outputs": [
      {
       "output_type": "pyout",
       "prompt_number": 8,
       "text": [
        "Int64Index([0, 1, 2, ..., 17202, 17203, 17204], dtype=int64)"
       ]
      }
     ],
     "prompt_number": 8
    },
    {
     "cell_type": "code",
     "collapsed": false,
     "input": [
      "df.index"
     ],
     "language": "python",
     "metadata": {},
     "outputs": [
      {
       "output_type": "pyout",
       "prompt_number": 9,
       "text": [
        "<class 'pandas.tseries.index.DatetimeIndex'>\n",
        "[2013-06-06 13:01:01, ..., 2013-06-18 12:59:01]\n",
        "Length: 17205, Freq: None, Timezone: None"
       ]
      }
     ],
     "prompt_number": 9
    },
    {
     "cell_type": "code",
     "collapsed": false,
     "input": [
      "# Jay how do I reindex ta_df to look like df?  "
     ],
     "language": "python",
     "metadata": {},
     "outputs": [],
     "prompt_number": 10
    },
    {
     "cell_type": "code",
     "collapsed": false,
     "input": [
      "# Jay also what do you think the best way to organize my ongoing ingestion is?\n",
      "# once a minute I download the newest json file of citibike data, and store it into the csv\n",
      "# I can have my python program run in an infinite loop and scan the download directory for \n",
      "# new files, or files witha  creation date after the last record in my dataframe\n",
      "# is there any way to incrementally save a dataframe or csv,  only updating the last couple \n",
      "# of rows?\n",
      "\n",
      "# that would be awesome with the s3 adapter.  If other people wanted to play with live citibike \n",
      "# citibike data, they could all read from the same s3 location\n",
      "\n",
      "\n"
     ],
     "language": "python",
     "metadata": {},
     "outputs": [],
     "prompt_number": 11
    },
    {
     "cell_type": "code",
     "collapsed": false,
     "input": [
      "#here is my current ingestion function\n",
      "example_stations_by_time = defaultdict(dict)\n",
      "def pandas_process_file(\n",
      "        fname, field_name=\"availableDocks\", \n",
      "        collection_dict=example_stations_by_time):\n",
      "    stats = json.loads(open(fname).read())\n",
      "    et = stats['executionTime']\n",
      "    for s in stats['stationBeanList']:\n",
      "        collection_dict[s['id']][et] = s[field_name]\n",
      "    return stats\n",
      "        \n",
      "def process_directory(d_name):\n",
      "    \"\"\"This function processes all files in a directory that start with stations- and\n",
      "    returns a dict of dicts suitable for pandas DataFrame ingestion\"\"\"\n",
      "    stations_by_time = defaultdict(dict)\n",
      "    disregard, disregard2, station_files = os.walk(d_name).next()\n",
      "\n",
      "    for fname in station_files:\n",
      "        if fname.find('stations-') == -1:\n",
      "            continue\n",
      "        full_fname = os.path.join(d_name, fname)\n",
      "        try:\n",
      "            pandas_process_file(full_fname, collection_dict=stations_by_time)\n",
      "        except Exception, e:\n",
      "            print e, full_fname\n",
      "\n",
      "    return stations_by_time\n",
      "\n",
      "def process_raw_files():\n",
      "    # this is the most expedient way to setup the dataframe properly,\n",
      "    # it's a bit of a hack\n",
      "    df = pd.DataFrame(process_directory(os.path.expanduser('~/data_citibike')))\n",
      "    df.to_csv('full_data.csv')\n",
      "    df3 = pd.read_csv('full_data.csv', index_col=0, parse_dates=[0])\n",
      "    return df3\n"
     ],
     "language": "python",
     "metadata": {},
     "outputs": []
    }
   ],
   "metadata": {}
  }
 ]
}