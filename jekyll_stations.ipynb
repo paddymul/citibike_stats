{
 "metadata": {
  "name": "jekyll_stations"
 },
 "nbformat": 3,
 "nbformat_minor": 0,
 "worksheets": [
  {
   "cells": [
    {
     "cell_type": "code",
     "collapsed": false,
     "input": [
      "import yaml"
     ],
     "language": "python",
     "metadata": {},
     "outputs": [],
     "prompt_number": 1
    },
    {
     "cell_type": "code",
     "collapsed": false,
     "input": [
      "print yaml.dump({'paddy':30, 'foo': \"hello\", \"bar\": {'boof':3}})"
     ],
     "language": "python",
     "metadata": {},
     "outputs": [
      {
       "output_type": "stream",
       "stream": "stdout",
       "text": [
        "bar: {boof: 3}\n",
        "foo: hello\n",
        "paddy: 30\n",
        "\n"
       ]
      }
     ],
     "prompt_number": 4
    },
    {
     "cell_type": "code",
     "collapsed": false,
     "input": [
      "full_data_df = pd.read_csv('full_data.csv', index_col=0, parse_dates=[0])\n"
     ],
     "language": "python",
     "metadata": {},
     "outputs": [],
     "prompt_number": 17
    },
    {
     "cell_type": "code",
     "collapsed": false,
     "input": [
      "full_data_df.index[-1]"
     ],
     "language": "python",
     "metadata": {},
     "outputs": [
      {
       "output_type": "pyout",
       "prompt_number": 18,
       "text": [
        "<Timestamp: 2013-06-23 12:59:01>"
       ]
      },
      {
       "output_type": "stream",
       "stream": "stdout",
       "text": [
        "\n",
        "Caching the list of root modules, please wait!\n",
        "(This will only be done once - type '%rehashx' to reset cache!)\n",
        "\n"
       ]
      }
     ],
     "prompt_number": 18
    },
    {
     "cell_type": "code",
     "collapsed": false,
     "input": [
      "import calculate_stats\n"
     ],
     "language": "python",
     "metadata": {},
     "outputs": [
      {
       "output_type": "stream",
       "stream": "stderr",
       "text": [
        "/opt/anaconda/envs/np17py27-1.5/lib/python2.7/site-packages/matplotlib/__init__.py:1033: UserWarning:  This call to matplotlib.use() has no effect\n",
        "because the the backend has already been chosen;\n",
        "matplotlib.use() must be called *before* pylab, matplotlib.pyplot,\n",
        "or matplotlib.backends is imported for the first time.\n",
        "\n",
        "  warnings.warn(_use_error_msg)\n"
       ]
      }
     ],
     "prompt_number": 19
    },
    {
     "cell_type": "code",
     "collapsed": false,
     "input": [
      "from collections import defaultdict\n",
      "import datetime as dt\n",
      "import os, json\n",
      "import pandas as pd\n",
      "\n",
      "def pandas_process_file(\n",
      "        fname, field_name=\"availableDocks\", \n",
      "        collection_dict=defaultdict(dict)):\n",
      "    stats = json.loads(open(fname).read())\n",
      "    et = stats['executionTime']\n",
      "    for s in stats['stationBeanList']:\n",
      "        collection_dict[s['id']][et] = s[field_name]\n",
      "    return stats\n",
      "\n",
      "def files_newer_than(start_time, dir_path):\n",
      "    t1 = dt.datetime.now()\n",
      "    fname_list = []\n",
      "    for fname in os.listdir(dir_path):\n",
      "        full_path = dir_path + fname\n",
      "        mtime = dt.datetime.fromtimestamp(os.stat(full_path).st_mtime)\n",
      "        if mtime > start_time:\n",
      "            fname_list.append(full_path)\n",
      "    return fname_list\n",
      "\n",
      "\n",
      "def process_newer_files(start_time, dir_path):\n",
      "    \"\"\"This function processes all files in a directory that start with stations- and\n",
      "    returns a dict of dicts suitable for pandas DataFrame ingestion\"\"\" \n",
      "    stations_by_time = defaultdict(dict)\n",
      "\n",
      "    for fname in files_newer_than(start_time, dir_path):\n",
      "        if fname.find('stations-') == -1:\n",
      "            continue\n",
      "        try:\n",
      "            pandas_process_file(fname, collection_dict=stations_by_time)\n",
      "        except Exception, e:\n",
      "            print e, fname\n",
      "    return stations_by_time\n",
      "\n",
      "cdict = defaultdict(dict)\n",
      "\n",
      "cdict2 = defaultdict(dict)\n",
      "pandas_dict = pandas_process_file(\n",
      "    '/user_home/w_paddy/data_citibike/stations-06-20-18_00_32.json', collection_dict=cdict)\n",
      "pandas_dict2 = pandas_process_file(\n",
      "    '/user_home/w_paddy/data_citibike/stations-06-20-19_00_26.json', collection_dict=cdict2)\n",
      "#newer_dict = process_newer_files(dt.datetime(2013,6,21), \"/user_home/w_paddy/data_citibike/\")\n"
     ],
     "language": "python",
     "metadata": {},
     "outputs": [],
     "prompt_number": 16
    },
    {
     "cell_type": "code",
     "collapsed": false,
     "input": [
      "c_df = pd.DataFrame(cdict)\n",
      "c_df2 = pd.DataFrame(cdict2)\n",
      "combined = c_df + c_df2\n",
      "print combined.icol(3)"
     ],
     "language": "python",
     "metadata": {},
     "outputs": [
      {
       "output_type": "stream",
       "stream": "stdout",
       "text": [
        "2013-06-20 09:59:01 AM   NaN\n",
        "2013-06-20 11:00:01 AM   NaN\n",
        "Name: 83, dtype: float64\n"
       ]
      }
     ],
     "prompt_number": 17
    },
    {
     "cell_type": "code",
     "collapsed": false,
     "input": [
      "ccd = pd.concat([c_df, c_df2])\n",
      "print ccd.icol(20)"
     ],
     "language": "python",
     "metadata": {},
     "outputs": [
      {
       "output_type": "stream",
       "stream": "stdout",
       "text": [
        "2013-06-20 09:59:01 AM    28\n",
        "2013-06-20 11:00:01 AM    23\n",
        "Name: 167, dtype: int64\n"
       ]
      }
     ],
     "prompt_number": 20
    },
    {
     "cell_type": "code",
     "collapsed": false,
     "input": [
      "\n",
      "\n",
      "import dateutil\n",
      "c_df.index = c_df.index.map(dateutil.parser.parse)"
     ],
     "language": "python",
     "metadata": {},
     "outputs": [],
     "prompt_number": 49
    },
    {
     "cell_type": "code",
     "collapsed": false,
     "input": [
      "c_df"
     ],
     "language": "python",
     "metadata": {},
     "outputs": [
      {
       "html": [
        "<pre>\n",
        "&ltclass 'pandas.core.frame.DataFrame'&gt\n",
        "DatetimeIndex: 2 entries, 2013-06-20 09:59:01 to 2013-06-20 11:00:01\n",
        "Columns: 311 entries, 72 to 2006\n",
        "dtypes: int64(311)\n",
        "</pre>"
       ],
       "output_type": "pyout",
       "prompt_number": 50,
       "text": [
        "<class 'pandas.core.frame.DataFrame'>\n",
        "DatetimeIndex: 2 entries, 2013-06-20 09:59:01 to 2013-06-20 11:00:01\n",
        "Columns: 311 entries, 72 to 2006\n",
        "dtypes: int64(311)"
       ]
      }
     ],
     "prompt_number": 50
    },
    {
     "cell_type": "code",
     "collapsed": false,
     "input": [
      "c_df.to_csv('c_df.csv')"
     ],
     "language": "python",
     "metadata": {},
     "outputs": [],
     "prompt_number": 45
    },
    {
     "cell_type": "code",
     "collapsed": false,
     "input": [
      "c_df2 = pd.read_csv('c_df.csv', index_col=0, parse_dates=[0])\n",
      "c_df2.icol(3)"
     ],
     "language": "python",
     "metadata": {},
     "outputs": [
      {
       "output_type": "pyout",
       "prompt_number": 46,
       "text": [
        "2013-06-20 09:59:01    23\n",
        "2013-06-20 11:00:01    19\n",
        "Name: 83, dtype: int64"
       ]
      }
     ],
     "prompt_number": 46
    },
    {
     "cell_type": "code",
     "collapsed": false,
     "input": [
      "import calculate_stats\n",
      "reload(calculate_stats)\n",
      "import calculate_stats\n",
      "df2 = calculate_stats.update_df(full_data_df)"
     ],
     "language": "python",
     "metadata": {},
     "outputs": [
      {
       "output_type": "stream",
       "stream": "stdout",
       "text": [
        "No JSON object could be decoded /user_home/w_paddy/data_citibike/stations-06-23-19_11_28.json\n",
        "No JSON object could be decoded"
       ]
      },
      {
       "output_type": "stream",
       "stream": "stdout",
       "text": [
        " /user_home/w_paddy/data_citibike/stations-06-23-19_07_13.json\n",
        "No JSON object could be decoded"
       ]
      },
      {
       "output_type": "stream",
       "stream": "stdout",
       "text": [
        " /user_home/w_paddy/data_citibike/stations-06-23-19_18_33.json\n",
        "No JSON object could be decoded"
       ]
      },
      {
       "output_type": "stream",
       "stream": "stdout",
       "text": [
        " /user_home/w_paddy/data_citibike/stations-06-23-19_19_59.json\n",
        "No JSON object could be decoded"
       ]
      },
      {
       "output_type": "stream",
       "stream": "stdout",
       "text": [
        " /user_home/w_paddy/data_citibike/stations-06-23-19_10_03.json\n",
        "No JSON object could be decoded /user_home/w_paddy/data_citibike/stations-06-23-19_27_04.json\n",
        "No JSON object could be decoded"
       ]
      },
      {
       "output_type": "stream",
       "stream": "stdout",
       "text": [
        " /user_home/w_paddy/data_citibike/stations-06-23-19_24_14.json\n",
        "No JSON object could be decoded"
       ]
      },
      {
       "output_type": "stream",
       "stream": "stdout",
       "text": [
        " /user_home/w_paddy/data_citibike/stations-06-23-19_25_39.json\n",
        "No JSON object could be decoded"
       ]
      },
      {
       "output_type": "stream",
       "stream": "stdout",
       "text": [
        " /user_home/w_paddy/data_citibike/stations-06-23-19_28_29.json\n",
        "No JSON object could be decoded"
       ]
      },
      {
       "output_type": "stream",
       "stream": "stdout",
       "text": [
        " /user_home/w_paddy/data_citibike/stations-06-23-19_21_24.json\n",
        "No JSON object could be decoded"
       ]
      },
      {
       "output_type": "stream",
       "stream": "stdout",
       "text": [
        " /user_home/w_paddy/data_citibike/stations-06-23-19_22_49.json\n",
        "No JSON object could be decoded"
       ]
      },
      {
       "output_type": "stream",
       "stream": "stdout",
       "text": [
        " /user_home/w_paddy/data_citibike/stations-06-23-19_08_38.json\n",
        "No JSON object could be decoded"
       ]
      },
      {
       "output_type": "stream",
       "stream": "stdout",
       "text": [
        " /user_home/w_paddy/data_citibike/stations-06-23-19_15_43.json\n",
        "No JSON object could be decoded"
       ]
      },
      {
       "output_type": "stream",
       "stream": "stdout",
       "text": [
        " /user_home/w_paddy/data_citibike/stations-06-23-19_12_53.json\n",
        "No JSON object could be decoded"
       ]
      },
      {
       "output_type": "stream",
       "stream": "stdout",
       "text": [
        " /user_home/w_paddy/data_citibike/stations-06-23-19_17_08.json\n",
        "No JSON object could be decoded"
       ]
      },
      {
       "output_type": "stream",
       "stream": "stdout",
       "text": [
        " /user_home/w_paddy/data_citibike/stations-06-23-19_14_18.json\n"
       ]
      }
     ],
     "prompt_number": 23
    },
    {
     "cell_type": "code",
     "collapsed": false,
     "input": [
      "df.icol(2)"
     ],
     "language": "python",
     "metadata": {},
     "outputs": [
      {
       "output_type": "pyout",
       "prompt_number": 35,
       "text": [
        "2013-06-06 01:24:01   NaN\n",
        "2013-06-06 01:26:01   NaN\n",
        "2013-06-06 01:27:01   NaN\n",
        "2013-06-06 01:28:01   NaN\n",
        "2013-06-06 01:29:01   NaN\n",
        "2013-06-06 01:30:01   NaN\n",
        "2013-06-06 01:31:01   NaN\n",
        "2013-06-06 01:32:01   NaN\n",
        "2013-06-06 01:33:01   NaN\n",
        "2013-06-06 01:34:01   NaN\n",
        "2013-06-06 01:35:01   NaN\n",
        "2013-06-06 01:36:01   NaN\n",
        "2013-06-06 01:37:01   NaN\n",
        "2013-06-06 01:38:01   NaN\n",
        "2013-06-06 01:39:01   NaN\n",
        "...\n",
        "2013-06-22 13:23:01   NaN\n",
        "2013-06-22 13:24:01   NaN\n",
        "2013-06-22 13:25:01   NaN\n",
        "2013-06-22 13:26:01   NaN\n",
        "2013-06-22 13:27:01   NaN\n",
        "2013-06-22 13:28:01   NaN\n",
        "2013-06-22 13:29:01   NaN\n",
        "2013-06-22 13:30:01   NaN\n",
        "2013-06-22 13:31:01   NaN\n",
        "2013-06-22 13:32:01   NaN\n",
        "2013-06-22 13:33:01   NaN\n",
        "2013-06-22 13:34:01   NaN\n",
        "2013-06-22 13:35:01   NaN\n",
        "2013-06-22 13:36:01   NaN\n",
        "2013-06-22 13:37:01   NaN\n",
        "Name: 120, Length: 22066, dtype: float64"
       ]
      }
     ],
     "prompt_number": 35
    },
    {
     "cell_type": "code",
     "collapsed": false,
     "input": [
      "import pandas as pd\n",
      "def grab_existing():\n",
      "    store = pd.HDFStore('store.comp.h5')\n",
      "    df = store['df']\n",
      "    store.close()\n",
      "    return df\n",
      "df = grab_existing()"
     ],
     "language": "python",
     "metadata": {},
     "outputs": [
      {
       "ename": "HDF5ExtError",
       "evalue": "HDF5 error back trace\n\n  File \"H5Dio.c\", line 174, in H5Dread\n    can't read data\n  File \"H5Dio.c\", line 449, in H5D_read\n    can't read data\n  File \"H5Dchunk.c\", line 1729, in H5D_chunk_read\n    unable to read raw data chunk\n  File \"H5Dchunk.c\", line 2755, in H5D_chunk_lock\n    unable to read raw data chunk\n  File \"H5Fio.c\", line 113, in H5F_block_read\n    read through metadata accumulator failed\n  File \"H5Faccum.c\", line 254, in H5F_accum_read\n    driver read request failed\n  File \"H5FDint.c\", line 142, in H5FD_read\n    driver read request failed\n  File \"H5FDsec2.c\", line 720, in H5FD_sec2_read\n    addr overflow, addr = 382475, size=672, eoa=380100\n\nEnd of HDF5 error back trace\n\nProblems reading the array data.",
       "output_type": "pyerr",
       "traceback": [
        "\u001b[1;31m---------------------------------------------------------------------------\u001b[0m\n\u001b[1;31mHDF5ExtError\u001b[0m                              Traceback (most recent call last)",
        "\u001b[1;32m<ipython-input-16-4241223ed632>\u001b[0m in \u001b[0;36m<module>\u001b[1;34m()\u001b[0m\n\u001b[0;32m      5\u001b[0m     \u001b[0mstore\u001b[0m\u001b[1;33m.\u001b[0m\u001b[0mclose\u001b[0m\u001b[1;33m(\u001b[0m\u001b[1;33m)\u001b[0m\u001b[1;33m\u001b[0m\u001b[0m\n\u001b[0;32m      6\u001b[0m     \u001b[1;32mreturn\u001b[0m \u001b[0mdf\u001b[0m\u001b[1;33m\u001b[0m\u001b[0m\n\u001b[1;32m----> 7\u001b[1;33m \u001b[0mdf\u001b[0m \u001b[1;33m=\u001b[0m \u001b[0mgrab_existing\u001b[0m\u001b[1;33m(\u001b[0m\u001b[1;33m)\u001b[0m\u001b[1;33m\u001b[0m\u001b[0m\n\u001b[0m",
        "\u001b[1;32m<ipython-input-16-4241223ed632>\u001b[0m in \u001b[0;36mgrab_existing\u001b[1;34m()\u001b[0m\n\u001b[0;32m      2\u001b[0m \u001b[1;32mdef\u001b[0m \u001b[0mgrab_existing\u001b[0m\u001b[1;33m(\u001b[0m\u001b[1;33m)\u001b[0m\u001b[1;33m:\u001b[0m\u001b[1;33m\u001b[0m\u001b[0m\n\u001b[0;32m      3\u001b[0m     \u001b[0mstore\u001b[0m \u001b[1;33m=\u001b[0m \u001b[0mpd\u001b[0m\u001b[1;33m.\u001b[0m\u001b[0mHDFStore\u001b[0m\u001b[1;33m(\u001b[0m\u001b[1;34m'store.comp.h5'\u001b[0m\u001b[1;33m)\u001b[0m\u001b[1;33m\u001b[0m\u001b[0m\n\u001b[1;32m----> 4\u001b[1;33m     \u001b[0mdf\u001b[0m \u001b[1;33m=\u001b[0m \u001b[0mstore\u001b[0m\u001b[1;33m[\u001b[0m\u001b[1;34m'df'\u001b[0m\u001b[1;33m]\u001b[0m\u001b[1;33m\u001b[0m\u001b[0m\n\u001b[0m\u001b[0;32m      5\u001b[0m     \u001b[0mstore\u001b[0m\u001b[1;33m.\u001b[0m\u001b[0mclose\u001b[0m\u001b[1;33m(\u001b[0m\u001b[1;33m)\u001b[0m\u001b[1;33m\u001b[0m\u001b[0m\n\u001b[0;32m      6\u001b[0m     \u001b[1;32mreturn\u001b[0m \u001b[0mdf\u001b[0m\u001b[1;33m\u001b[0m\u001b[0m\n",
        "\u001b[1;32m/opt/anaconda/envs/np17py27-1.5/lib/python2.7/site-packages/pandas/io/pytables.pyc\u001b[0m in \u001b[0;36m__getitem__\u001b[1;34m(self, key)\u001b[0m\n\u001b[0;32m    236\u001b[0m \u001b[1;33m\u001b[0m\u001b[0m\n\u001b[0;32m    237\u001b[0m     \u001b[1;32mdef\u001b[0m \u001b[0m__getitem__\u001b[0m\u001b[1;33m(\u001b[0m\u001b[0mself\u001b[0m\u001b[1;33m,\u001b[0m \u001b[0mkey\u001b[0m\u001b[1;33m)\u001b[0m\u001b[1;33m:\u001b[0m\u001b[1;33m\u001b[0m\u001b[0m\n\u001b[1;32m--> 238\u001b[1;33m         \u001b[1;32mreturn\u001b[0m \u001b[0mself\u001b[0m\u001b[1;33m.\u001b[0m\u001b[0mget\u001b[0m\u001b[1;33m(\u001b[0m\u001b[0mkey\u001b[0m\u001b[1;33m)\u001b[0m\u001b[1;33m\u001b[0m\u001b[0m\n\u001b[0m\u001b[0;32m    239\u001b[0m \u001b[1;33m\u001b[0m\u001b[0m\n\u001b[0;32m    240\u001b[0m     \u001b[1;32mdef\u001b[0m \u001b[0m__setitem__\u001b[0m\u001b[1;33m(\u001b[0m\u001b[0mself\u001b[0m\u001b[1;33m,\u001b[0m \u001b[0mkey\u001b[0m\u001b[1;33m,\u001b[0m \u001b[0mvalue\u001b[0m\u001b[1;33m)\u001b[0m\u001b[1;33m:\u001b[0m\u001b[1;33m\u001b[0m\u001b[0m\n",
        "\u001b[1;32m/opt/anaconda/envs/np17py27-1.5/lib/python2.7/site-packages/pandas/io/pytables.pyc\u001b[0m in \u001b[0;36mget\u001b[1;34m(self, key)\u001b[0m\n\u001b[0;32m    369\u001b[0m         \u001b[1;32mif\u001b[0m \u001b[0mgroup\u001b[0m \u001b[1;32mis\u001b[0m \u001b[0mNone\u001b[0m\u001b[1;33m:\u001b[0m\u001b[1;33m\u001b[0m\u001b[0m\n\u001b[0;32m    370\u001b[0m             \u001b[1;32mraise\u001b[0m \u001b[0mKeyError\u001b[0m\u001b[1;33m(\u001b[0m\u001b[1;34m'No object named %s in the file'\u001b[0m \u001b[1;33m%\u001b[0m \u001b[0mkey\u001b[0m\u001b[1;33m)\u001b[0m\u001b[1;33m\u001b[0m\u001b[0m\n\u001b[1;32m--> 371\u001b[1;33m         \u001b[1;32mreturn\u001b[0m \u001b[0mself\u001b[0m\u001b[1;33m.\u001b[0m\u001b[0m_read_group\u001b[0m\u001b[1;33m(\u001b[0m\u001b[0mgroup\u001b[0m\u001b[1;33m)\u001b[0m\u001b[1;33m\u001b[0m\u001b[0m\n\u001b[0m\u001b[0;32m    372\u001b[0m \u001b[1;33m\u001b[0m\u001b[0m\n\u001b[0;32m    373\u001b[0m     \u001b[1;32mdef\u001b[0m \u001b[0mselect\u001b[0m\u001b[1;33m(\u001b[0m\u001b[0mself\u001b[0m\u001b[1;33m,\u001b[0m \u001b[0mkey\u001b[0m\u001b[1;33m,\u001b[0m \u001b[0mwhere\u001b[0m\u001b[1;33m=\u001b[0m\u001b[0mNone\u001b[0m\u001b[1;33m,\u001b[0m \u001b[0mstart\u001b[0m\u001b[1;33m=\u001b[0m\u001b[0mNone\u001b[0m\u001b[1;33m,\u001b[0m \u001b[0mstop\u001b[0m\u001b[1;33m=\u001b[0m\u001b[0mNone\u001b[0m\u001b[1;33m,\u001b[0m \u001b[0mcolumns\u001b[0m\u001b[1;33m=\u001b[0m\u001b[0mNone\u001b[0m\u001b[1;33m,\u001b[0m \u001b[0miterator\u001b[0m\u001b[1;33m=\u001b[0m\u001b[0mFalse\u001b[0m\u001b[1;33m,\u001b[0m \u001b[0mchunksize\u001b[0m\u001b[1;33m=\u001b[0m\u001b[0mNone\u001b[0m\u001b[1;33m,\u001b[0m \u001b[1;33m**\u001b[0m\u001b[0mkwargs\u001b[0m\u001b[1;33m)\u001b[0m\u001b[1;33m:\u001b[0m\u001b[1;33m\u001b[0m\u001b[0m\n",
        "\u001b[1;32m/opt/anaconda/envs/np17py27-1.5/lib/python2.7/site-packages/pandas/io/pytables.pyc\u001b[0m in \u001b[0;36m_read_group\u001b[1;34m(self, group, **kwargs)\u001b[0m\n\u001b[0;32m    876\u001b[0m         \u001b[0ms\u001b[0m \u001b[1;33m=\u001b[0m \u001b[0mself\u001b[0m\u001b[1;33m.\u001b[0m\u001b[0m_create_storer\u001b[0m\u001b[1;33m(\u001b[0m\u001b[0mgroup\u001b[0m\u001b[1;33m)\u001b[0m\u001b[1;33m\u001b[0m\u001b[0m\n\u001b[0;32m    877\u001b[0m         \u001b[0ms\u001b[0m\u001b[1;33m.\u001b[0m\u001b[0minfer_axes\u001b[0m\u001b[1;33m(\u001b[0m\u001b[1;33m)\u001b[0m\u001b[1;33m\u001b[0m\u001b[0m\n\u001b[1;32m--> 878\u001b[1;33m         \u001b[1;32mreturn\u001b[0m \u001b[0ms\u001b[0m\u001b[1;33m.\u001b[0m\u001b[0mread\u001b[0m\u001b[1;33m(\u001b[0m\u001b[1;33m**\u001b[0m\u001b[0mkwargs\u001b[0m\u001b[1;33m)\u001b[0m\u001b[1;33m\u001b[0m\u001b[0m\n\u001b[0m\u001b[0;32m    879\u001b[0m \u001b[1;33m\u001b[0m\u001b[0m\n\u001b[0;32m    880\u001b[0m \u001b[1;32mclass\u001b[0m \u001b[0mTableIterator\u001b[0m\u001b[1;33m(\u001b[0m\u001b[0mobject\u001b[0m\u001b[1;33m)\u001b[0m\u001b[1;33m:\u001b[0m\u001b[1;33m\u001b[0m\u001b[0m\n",
        "\u001b[1;32m/opt/anaconda/envs/np17py27-1.5/lib/python2.7/site-packages/pandas/io/pytables.pyc\u001b[0m in \u001b[0;36mread\u001b[1;34m(self, **kwargs)\u001b[0m\n\u001b[0;32m   1982\u001b[0m         \u001b[0mblocks\u001b[0m \u001b[1;33m=\u001b[0m \u001b[1;33m[\u001b[0m\u001b[1;33m]\u001b[0m\u001b[1;33m\u001b[0m\u001b[0m\n\u001b[0;32m   1983\u001b[0m         \u001b[1;32mfor\u001b[0m \u001b[0mi\u001b[0m \u001b[1;32min\u001b[0m \u001b[0mrange\u001b[0m\u001b[1;33m(\u001b[0m\u001b[0mself\u001b[0m\u001b[1;33m.\u001b[0m\u001b[0mnblocks\u001b[0m\u001b[1;33m)\u001b[0m\u001b[1;33m:\u001b[0m\u001b[1;33m\u001b[0m\u001b[0m\n\u001b[1;32m-> 1984\u001b[1;33m             \u001b[0mblk_items\u001b[0m \u001b[1;33m=\u001b[0m \u001b[0mself\u001b[0m\u001b[1;33m.\u001b[0m\u001b[0mread_index\u001b[0m\u001b[1;33m(\u001b[0m\u001b[1;34m'block%d_items'\u001b[0m \u001b[1;33m%\u001b[0m \u001b[0mi\u001b[0m\u001b[1;33m)\u001b[0m\u001b[1;33m\u001b[0m\u001b[0m\n\u001b[0m\u001b[0;32m   1985\u001b[0m             \u001b[0mvalues\u001b[0m \u001b[1;33m=\u001b[0m \u001b[0mself\u001b[0m\u001b[1;33m.\u001b[0m\u001b[0mread_array\u001b[0m\u001b[1;33m(\u001b[0m\u001b[1;34m'block%d_values'\u001b[0m \u001b[1;33m%\u001b[0m \u001b[0mi\u001b[0m\u001b[1;33m)\u001b[0m\u001b[1;33m\u001b[0m\u001b[0m\n\u001b[0;32m   1986\u001b[0m             \u001b[0mblk\u001b[0m \u001b[1;33m=\u001b[0m \u001b[0mmake_block\u001b[0m\u001b[1;33m(\u001b[0m\u001b[0mvalues\u001b[0m\u001b[1;33m,\u001b[0m \u001b[0mblk_items\u001b[0m\u001b[1;33m,\u001b[0m \u001b[0mitems\u001b[0m\u001b[1;33m)\u001b[0m\u001b[1;33m\u001b[0m\u001b[0m\n",
        "\u001b[1;32m/opt/anaconda/envs/np17py27-1.5/lib/python2.7/site-packages/pandas/io/pytables.pyc\u001b[0m in \u001b[0;36mread_index\u001b[1;34m(self, key)\u001b[0m\n\u001b[0;32m   1615\u001b[0m             \u001b[1;32mreturn\u001b[0m \u001b[0mself\u001b[0m\u001b[1;33m.\u001b[0m\u001b[0mread_sparse_intindex\u001b[0m\u001b[1;33m(\u001b[0m\u001b[0mkey\u001b[0m\u001b[1;33m)\u001b[0m\u001b[1;33m\u001b[0m\u001b[0m\n\u001b[0;32m   1616\u001b[0m         \u001b[1;32melif\u001b[0m \u001b[0mvariety\u001b[0m \u001b[1;33m==\u001b[0m \u001b[1;34m'regular'\u001b[0m\u001b[1;33m:\u001b[0m\u001b[1;33m\u001b[0m\u001b[0m\n\u001b[1;32m-> 1617\u001b[1;33m             \u001b[0m_\u001b[0m\u001b[1;33m,\u001b[0m \u001b[0mindex\u001b[0m \u001b[1;33m=\u001b[0m \u001b[0mself\u001b[0m\u001b[1;33m.\u001b[0m\u001b[0mread_index_node\u001b[0m\u001b[1;33m(\u001b[0m\u001b[0mgetattr\u001b[0m\u001b[1;33m(\u001b[0m\u001b[0mself\u001b[0m\u001b[1;33m.\u001b[0m\u001b[0mgroup\u001b[0m\u001b[1;33m,\u001b[0m \u001b[0mkey\u001b[0m\u001b[1;33m)\u001b[0m\u001b[1;33m)\u001b[0m\u001b[1;33m\u001b[0m\u001b[0m\n\u001b[0m\u001b[0;32m   1618\u001b[0m             \u001b[1;32mreturn\u001b[0m \u001b[0mindex\u001b[0m\u001b[1;33m\u001b[0m\u001b[0m\n\u001b[0;32m   1619\u001b[0m         \u001b[1;32melse\u001b[0m\u001b[1;33m:\u001b[0m  \u001b[1;31m# pragma: no cover\u001b[0m\u001b[1;33m\u001b[0m\u001b[0m\n",
        "\u001b[1;32m/opt/anaconda/envs/np17py27-1.5/lib/python2.7/site-packages/pandas/io/pytables.pyc\u001b[0m in \u001b[0;36mread_index_node\u001b[1;34m(self, node)\u001b[0m\n\u001b[0;32m   1711\u001b[0m \u001b[1;33m\u001b[0m\u001b[0m\n\u001b[0;32m   1712\u001b[0m     \u001b[1;32mdef\u001b[0m \u001b[0mread_index_node\u001b[0m\u001b[1;33m(\u001b[0m\u001b[0mself\u001b[0m\u001b[1;33m,\u001b[0m \u001b[0mnode\u001b[0m\u001b[1;33m)\u001b[0m\u001b[1;33m:\u001b[0m\u001b[1;33m\u001b[0m\u001b[0m\n\u001b[1;32m-> 1713\u001b[1;33m         \u001b[0mdata\u001b[0m \u001b[1;33m=\u001b[0m \u001b[0mnode\u001b[0m\u001b[1;33m[\u001b[0m\u001b[1;33m:\u001b[0m\u001b[1;33m]\u001b[0m\u001b[1;33m\u001b[0m\u001b[0m\n\u001b[0m\u001b[0;32m   1714\u001b[0m         \u001b[0mkind\u001b[0m \u001b[1;33m=\u001b[0m \u001b[0mnode\u001b[0m\u001b[1;33m.\u001b[0m\u001b[0m_v_attrs\u001b[0m\u001b[1;33m.\u001b[0m\u001b[0mkind\u001b[0m\u001b[1;33m\u001b[0m\u001b[0m\n\u001b[0;32m   1715\u001b[0m         \u001b[0mname\u001b[0m \u001b[1;33m=\u001b[0m \u001b[0mNone\u001b[0m\u001b[1;33m\u001b[0m\u001b[0m\n",
        "\u001b[1;32m/opt/anaconda/envs/np17py27-1.5/lib/python2.7/site-packages/tables/array.pyc\u001b[0m in \u001b[0;36m__getitem__\u001b[1;34m(self, key)\u001b[0m\n\u001b[0;32m    616\u001b[0m             \u001b[1;31m# First, try with a regular selection\u001b[0m\u001b[1;33m\u001b[0m\u001b[1;33m\u001b[0m\u001b[0m\n\u001b[0;32m    617\u001b[0m             \u001b[0mstartl\u001b[0m\u001b[1;33m,\u001b[0m \u001b[0mstopl\u001b[0m\u001b[1;33m,\u001b[0m \u001b[0mstepl\u001b[0m\u001b[1;33m,\u001b[0m \u001b[0mshape\u001b[0m \u001b[1;33m=\u001b[0m \u001b[0mself\u001b[0m\u001b[1;33m.\u001b[0m\u001b[0m_interpret_indexing\u001b[0m\u001b[1;33m(\u001b[0m\u001b[0mkey\u001b[0m\u001b[1;33m)\u001b[0m\u001b[1;33m\u001b[0m\u001b[0m\n\u001b[1;32m--> 618\u001b[1;33m             \u001b[0marr\u001b[0m \u001b[1;33m=\u001b[0m \u001b[0mself\u001b[0m\u001b[1;33m.\u001b[0m\u001b[0m_readSlice\u001b[0m\u001b[1;33m(\u001b[0m\u001b[0mstartl\u001b[0m\u001b[1;33m,\u001b[0m \u001b[0mstopl\u001b[0m\u001b[1;33m,\u001b[0m \u001b[0mstepl\u001b[0m\u001b[1;33m,\u001b[0m \u001b[0mshape\u001b[0m\u001b[1;33m)\u001b[0m\u001b[1;33m\u001b[0m\u001b[0m\n\u001b[0m\u001b[0;32m    619\u001b[0m         \u001b[1;32mexcept\u001b[0m \u001b[0mTypeError\u001b[0m\u001b[1;33m:\u001b[0m\u001b[1;33m\u001b[0m\u001b[0m\n\u001b[0;32m    620\u001b[0m             \u001b[1;31m# Then, try with a point-wise selection\u001b[0m\u001b[1;33m\u001b[0m\u001b[1;33m\u001b[0m\u001b[0m\n",
        "\u001b[1;32m/opt/anaconda/envs/np17py27-1.5/lib/python2.7/site-packages/tables/array.pyc\u001b[0m in \u001b[0;36m_readSlice\u001b[1;34m(self, startl, stopl, stepl, shape)\u001b[0m\n\u001b[0;32m    716\u001b[0m         \u001b[1;32mif\u001b[0m \u001b[1;36m0\u001b[0m \u001b[1;32mnot\u001b[0m \u001b[1;32min\u001b[0m \u001b[0mshape\u001b[0m\u001b[1;33m:\u001b[0m\u001b[1;33m\u001b[0m\u001b[0m\n\u001b[0;32m    717\u001b[0m             \u001b[1;31m# Arrays that have non-zero dimensionality\u001b[0m\u001b[1;33m\u001b[0m\u001b[1;33m\u001b[0m\u001b[0m\n\u001b[1;32m--> 718\u001b[1;33m             \u001b[0mself\u001b[0m\u001b[1;33m.\u001b[0m\u001b[0m_g_readSlice\u001b[0m\u001b[1;33m(\u001b[0m\u001b[0mstartl\u001b[0m\u001b[1;33m,\u001b[0m \u001b[0mstopl\u001b[0m\u001b[1;33m,\u001b[0m \u001b[0mstepl\u001b[0m\u001b[1;33m,\u001b[0m \u001b[0mnparr\u001b[0m\u001b[1;33m)\u001b[0m\u001b[1;33m\u001b[0m\u001b[0m\n\u001b[0m\u001b[0;32m    719\u001b[0m         \u001b[1;31m# For zero-shaped arrays, return the scalar\u001b[0m\u001b[1;33m\u001b[0m\u001b[1;33m\u001b[0m\u001b[0m\n\u001b[0;32m    720\u001b[0m         \u001b[1;32mif\u001b[0m \u001b[0mnparr\u001b[0m\u001b[1;33m.\u001b[0m\u001b[0mshape\u001b[0m \u001b[1;33m==\u001b[0m \u001b[1;33m(\u001b[0m\u001b[1;33m)\u001b[0m\u001b[1;33m:\u001b[0m\u001b[1;33m\u001b[0m\u001b[0m\n",
        "\u001b[1;32m/opt/anaconda/envs/np17py27-1.5/lib/python2.7/site-packages/tables/hdf5Extension.so\u001b[0m in \u001b[0;36mtables.hdf5Extension.Array._g_readSlice (tables/hdf5Extension.c:10566)\u001b[1;34m()\u001b[0m\n",
        "\u001b[1;31mHDF5ExtError\u001b[0m: HDF5 error back trace\n\n  File \"H5Dio.c\", line 174, in H5Dread\n    can't read data\n  File \"H5Dio.c\", line 449, in H5D_read\n    can't read data\n  File \"H5Dchunk.c\", line 1729, in H5D_chunk_read\n    unable to read raw data chunk\n  File \"H5Dchunk.c\", line 2755, in H5D_chunk_lock\n    unable to read raw data chunk\n  File \"H5Fio.c\", line 113, in H5F_block_read\n    read through metadata accumulator failed\n  File \"H5Faccum.c\", line 254, in H5F_accum_read\n    driver read request failed\n  File \"H5FDint.c\", line 142, in H5FD_read\n    driver read request failed\n  File \"H5FDsec2.c\", line 720, in H5FD_sec2_read\n    addr overflow, addr = 382475, size=672, eoa=380100\n\nEnd of HDF5 error back trace\n\nProblems reading the array data."
       ]
      }
     ],
     "prompt_number": 16
    },
    {
     "cell_type": "code",
     "collapsed": false,
     "input": [
      "from boto.s3.connection import S3Connection\n",
      "import json\n",
      "secret_key = json.loads(open(os.path.expanduser(\n",
      "            \"~/.ec2/s3_credentials.json\")).read())\n",
      "conn = S3Connection(*secret_key.items()[0])\n",
      "bucket = conn.get_bucket(\"citibikedata.com\")\n",
      "def save_to_s3(df):\n",
      "    secret_key = json.loads(open(os.path.expanduser(\n",
      "            \"~/.ec2/s3_credentials.json\")).read())\n",
      "    conn = S3Connection(*secret_key.items()[0])\n",
      "    bucket = conn.get_bucket(\"citibikedata.com\")\n",
      "    k = Key(bucket)\n",
      "    k.key = \"latest.h5.blosc\"\n",
      "\n",
      "    k.set_contents_from_filename(fname)\n",
      "    k.set_acl('public-read')\n",
      "    return  k\n"
     ],
     "language": "python",
     "metadata": {},
     "outputs": [
      {
       "ename": "NameError",
       "evalue": "name 'json' is not defined",
       "output_type": "pyerr",
       "traceback": [
        "\u001b[1;31m---------------------------------------------------------------------------\u001b[0m\n\u001b[1;31mNameError\u001b[0m                                 Traceback (most recent call last)",
        "\u001b[1;32m<ipython-input-6-0bb74a3abaf2>\u001b[0m in \u001b[0;36m<module>\u001b[1;34m()\u001b[0m\n\u001b[0;32m      1\u001b[0m \u001b[1;32mfrom\u001b[0m \u001b[0mboto\u001b[0m\u001b[1;33m.\u001b[0m\u001b[0ms3\u001b[0m\u001b[1;33m.\u001b[0m\u001b[0mconnection\u001b[0m \u001b[1;32mimport\u001b[0m \u001b[0mS3Connection\u001b[0m\u001b[1;33m\u001b[0m\u001b[0m\n\u001b[1;32m----> 2\u001b[1;33m secret_key = json.loads(open(os.path.expanduser(\n\u001b[0m\u001b[0;32m      3\u001b[0m             \"~/.ec2/s3_credentials.json\")).read())\n\u001b[0;32m      4\u001b[0m \u001b[0mconn\u001b[0m \u001b[1;33m=\u001b[0m \u001b[0mS3Connection\u001b[0m\u001b[1;33m(\u001b[0m\u001b[1;33m*\u001b[0m\u001b[0msecret_key\u001b[0m\u001b[1;33m.\u001b[0m\u001b[0mitems\u001b[0m\u001b[1;33m(\u001b[0m\u001b[1;33m)\u001b[0m\u001b[1;33m[\u001b[0m\u001b[1;36m0\u001b[0m\u001b[1;33m]\u001b[0m\u001b[1;33m)\u001b[0m\u001b[1;33m\u001b[0m\u001b[0m\n\u001b[0;32m      5\u001b[0m \u001b[0mbucket\u001b[0m \u001b[1;33m=\u001b[0m \u001b[0mconn\u001b[0m\u001b[1;33m.\u001b[0m\u001b[0mget_bucket\u001b[0m\u001b[1;33m(\u001b[0m\u001b[1;34m\"citibikedata.com\"\u001b[0m\u001b[1;33m)\u001b[0m\u001b[1;33m\u001b[0m\u001b[0m\n",
        "\u001b[1;31mNameError\u001b[0m: name 'json' is not defined"
       ]
      }
     ],
     "prompt_number": 6
    },
    {
     "cell_type": "code",
     "collapsed": false,
     "input": [
      "from boto.s3.connection import S3Connection\n",
      "from boto.s3.key import Key\n",
      "import json, os\n",
      "secret_key = json.loads(open(os.path.expanduser(\n",
      "            \"~/.ec2/s3_credentials.json\")).read())\n",
      "conn = S3Connection(*secret_key.items()[0])\n",
      "bucket = conn.get_bucket(\"citibikedata.com\")\n",
      "k = Key(bucket)\n",
      "k.key = \"latest.h5.blosc\"\n",
      "k"
     ],
     "language": "python",
     "metadata": {},
     "outputs": [],
     "prompt_number": 9
    },
    {
     "cell_type": "code",
     "collapsed": false,
     "input": [
      "import requests\n",
      "r = requests.get(\"http://citibikedata.com/store.comp.h5\")\n",
      "if r.status_code == 200:\n",
      "    with open('store.comp.h52', 'wb') as f:\n",
      "        for chunk in r.iter_content():\n",
      "            f.write(chunk)"
     ],
     "language": "python",
     "metadata": {},
     "outputs": [],
     "prompt_number": 14
    },
    {
     "cell_type": "code",
     "collapsed": false,
     "input": [
      "conn2 = S3Connection()"
     ],
     "language": "python",
     "metadata": {},
     "outputs": [
      {
       "ename": "NoAuthHandlerFound",
       "evalue": "No handler was ready to authenticate. 1 handlers were checked. ['HmacAuthV1Handler'] Check your credentials",
       "output_type": "pyerr",
       "traceback": [
        "\u001b[1;31m---------------------------------------------------------------------------\u001b[0m\n\u001b[1;31mNoAuthHandlerFound\u001b[0m                        Traceback (most recent call last)",
        "\u001b[1;32m<ipython-input-13-c85717b7d890>\u001b[0m in \u001b[0;36m<module>\u001b[1;34m()\u001b[0m\n\u001b[1;32m----> 1\u001b[1;33m \u001b[0mconn2\u001b[0m \u001b[1;33m=\u001b[0m \u001b[0mS3Connection\u001b[0m\u001b[1;33m(\u001b[0m\u001b[1;33m)\u001b[0m\u001b[1;33m\u001b[0m\u001b[0m\n\u001b[0m",
        "\u001b[1;32m/opt/anaconda/envs/np17py27-1.5/lib/python2.7/site-packages/boto/s3/connection.pyc\u001b[0m in \u001b[0;36m__init__\u001b[1;34m(self, aws_access_key_id, aws_secret_access_key, is_secure, port, proxy, proxy_port, proxy_user, proxy_pass, host, debug, https_connection_factory, calling_format, path, provider, bucket_class, security_token, suppress_consec_slashes, anon, validate_certs)\u001b[0m\n\u001b[0;32m    172\u001b[0m                 \u001b[0mpath\u001b[0m\u001b[1;33m=\u001b[0m\u001b[0mpath\u001b[0m\u001b[1;33m,\u001b[0m \u001b[0mprovider\u001b[0m\u001b[1;33m=\u001b[0m\u001b[0mprovider\u001b[0m\u001b[1;33m,\u001b[0m \u001b[0msecurity_token\u001b[0m\u001b[1;33m=\u001b[0m\u001b[0msecurity_token\u001b[0m\u001b[1;33m,\u001b[0m\u001b[1;33m\u001b[0m\u001b[0m\n\u001b[0;32m    173\u001b[0m                 \u001b[0msuppress_consec_slashes\u001b[0m\u001b[1;33m=\u001b[0m\u001b[0msuppress_consec_slashes\u001b[0m\u001b[1;33m,\u001b[0m\u001b[1;33m\u001b[0m\u001b[0m\n\u001b[1;32m--> 174\u001b[1;33m                 validate_certs=validate_certs)\n\u001b[0m\u001b[0;32m    175\u001b[0m \u001b[1;33m\u001b[0m\u001b[0m\n\u001b[0;32m    176\u001b[0m     \u001b[1;32mdef\u001b[0m \u001b[0m_required_auth_capability\u001b[0m\u001b[1;33m(\u001b[0m\u001b[0mself\u001b[0m\u001b[1;33m)\u001b[0m\u001b[1;33m:\u001b[0m\u001b[1;33m\u001b[0m\u001b[0m\n",
        "\u001b[1;32m/opt/anaconda/envs/np17py27-1.5/lib/python2.7/site-packages/boto/connection.pyc\u001b[0m in \u001b[0;36m__init__\u001b[1;34m(self, host, aws_access_key_id, aws_secret_access_key, is_secure, port, proxy, proxy_port, proxy_user, proxy_pass, debug, https_connection_factory, path, provider, security_token, suppress_consec_slashes, validate_certs)\u001b[0m\n\u001b[0;32m    550\u001b[0m         \u001b[0mself\u001b[0m\u001b[1;33m.\u001b[0m\u001b[0m_last_rs\u001b[0m \u001b[1;33m=\u001b[0m \u001b[0mNone\u001b[0m\u001b[1;33m\u001b[0m\u001b[0m\n\u001b[0;32m    551\u001b[0m         self._auth_handler = auth.get_auth_handler(\n\u001b[1;32m--> 552\u001b[1;33m               host, config, self.provider, self._required_auth_capability())\n\u001b[0m\u001b[0;32m    553\u001b[0m         \u001b[1;32mif\u001b[0m \u001b[0mgetattr\u001b[0m\u001b[1;33m(\u001b[0m\u001b[0mself\u001b[0m\u001b[1;33m,\u001b[0m \u001b[1;34m'AuthServiceName'\u001b[0m\u001b[1;33m,\u001b[0m \u001b[0mNone\u001b[0m\u001b[1;33m)\u001b[0m \u001b[1;32mis\u001b[0m \u001b[1;32mnot\u001b[0m \u001b[0mNone\u001b[0m\u001b[1;33m:\u001b[0m\u001b[1;33m\u001b[0m\u001b[0m\n\u001b[0;32m    554\u001b[0m             \u001b[0mself\u001b[0m\u001b[1;33m.\u001b[0m\u001b[0mauth_service_name\u001b[0m \u001b[1;33m=\u001b[0m \u001b[0mself\u001b[0m\u001b[1;33m.\u001b[0m\u001b[0mAuthServiceName\u001b[0m\u001b[1;33m\u001b[0m\u001b[0m\n",
        "\u001b[1;32m/opt/anaconda/envs/np17py27-1.5/lib/python2.7/site-packages/boto/auth.pyc\u001b[0m in \u001b[0;36mget_auth_handler\u001b[1;34m(host, config, provider, requested_capability)\u001b[0m\n\u001b[0;32m    668\u001b[0m               \u001b[1;34m'No handler was ready to authenticate. %d handlers were checked.'\u001b[0m\u001b[1;33m\u001b[0m\u001b[0m\n\u001b[0;32m    669\u001b[0m               \u001b[1;34m' %s '\u001b[0m\u001b[1;33m\u001b[0m\u001b[0m\n\u001b[1;32m--> 670\u001b[1;33m               'Check your credentials' % (len(names), str(names)))\n\u001b[0m\u001b[0;32m    671\u001b[0m \u001b[1;33m\u001b[0m\u001b[0m\n\u001b[0;32m    672\u001b[0m     \u001b[1;31m# We select the last ready auth handler that was loaded, to allow users to\u001b[0m\u001b[1;33m\u001b[0m\u001b[1;33m\u001b[0m\u001b[0m\n",
        "\u001b[1;31mNoAuthHandlerFound\u001b[0m: No handler was ready to authenticate. 1 handlers were checked. ['HmacAuthV1Handler'] Check your credentials"
       ]
      }
     ],
     "prompt_number": 13
    },
    {
     "cell_type": "code",
     "collapsed": false,
     "input": [
      "store = pd.HDFStore('store.comp.h5')"
     ],
     "language": "python",
     "metadata": {},
     "outputs": [],
     "prompt_number": 10
    },
    {
     "cell_type": "code",
     "collapsed": false,
     "input": [
      "k.get_file('latest.h5.blosc')"
     ],
     "language": "python",
     "metadata": {},
     "outputs": [
      {
       "ename": "S3ResponseError",
       "evalue": "S3ResponseError: 404 Not Found\n<?xml version=\"1.0\" encoding=\"UTF-8\"?>\n<Error><Code>NoSuchKey</Code><Message>The specified key does not exist.</Message><Key>latest.h5.blosc</Key><RequestId>E393E29EC01F97E5</RequestId><HostId>tNEDlAQzSSC9I94bGeGooXdK6bhi/djZRNdLrLtf0b+9L5HTA3ZCe0tpjPcWsGxI</HostId></Error>",
       "output_type": "pyerr",
       "traceback": [
        "\u001b[1;31m---------------------------------------------------------------------------\u001b[0m\n\u001b[1;31mS3ResponseError\u001b[0m                           Traceback (most recent call last)",
        "\u001b[1;32m<ipython-input-12-50bd4cdf61b8>\u001b[0m in \u001b[0;36m<module>\u001b[1;34m()\u001b[0m\n\u001b[1;32m----> 1\u001b[1;33m \u001b[0mk\u001b[0m\u001b[1;33m.\u001b[0m\u001b[0mget_file\u001b[0m\u001b[1;33m(\u001b[0m\u001b[1;34m'latest.h5.blosc'\u001b[0m\u001b[1;33m)\u001b[0m\u001b[1;33m\u001b[0m\u001b[0m\n\u001b[0m",
        "\u001b[1;32m/opt/anaconda/envs/np17py27-1.5/lib/python2.7/site-packages/boto/s3/key.pyc\u001b[0m in \u001b[0;36mget_file\u001b[1;34m(self, fp, headers, cb, num_cb, torrent, version_id, override_num_retries, response_headers)\u001b[0m\n\u001b[0;32m   1351\u001b[0m                                 \u001b[0mresponse_headers\u001b[0m\u001b[1;33m=\u001b[0m\u001b[0mresponse_headers\u001b[0m\u001b[1;33m,\u001b[0m\u001b[1;33m\u001b[0m\u001b[0m\n\u001b[0;32m   1352\u001b[0m                                 \u001b[0mhash_algs\u001b[0m\u001b[1;33m=\u001b[0m\u001b[0mNone\u001b[0m\u001b[1;33m,\u001b[0m\u001b[1;33m\u001b[0m\u001b[0m\n\u001b[1;32m-> 1353\u001b[1;33m                                 query_args=None)\n\u001b[0m\u001b[0;32m   1354\u001b[0m \u001b[1;33m\u001b[0m\u001b[0m\n\u001b[0;32m   1355\u001b[0m     def _get_file_internal(self, fp, headers=None, cb=None, num_cb=10,\n",
        "\u001b[1;32m/opt/anaconda/envs/np17py27-1.5/lib/python2.7/site-packages/boto/s3/key.pyc\u001b[0m in \u001b[0;36m_get_file_internal\u001b[1;34m(self, fp, headers, cb, num_cb, torrent, version_id, override_num_retries, response_headers, hash_algs, query_args)\u001b[0m\n\u001b[0;32m   1383\u001b[0m         \u001b[0mquery_args\u001b[0m \u001b[1;33m=\u001b[0m \u001b[1;34m'&'\u001b[0m\u001b[1;33m.\u001b[0m\u001b[0mjoin\u001b[0m\u001b[1;33m(\u001b[0m\u001b[0mquery_args\u001b[0m\u001b[1;33m)\u001b[0m\u001b[1;33m\u001b[0m\u001b[0m\n\u001b[0;32m   1384\u001b[0m         self.open('r', headers, query_args=query_args,\n\u001b[1;32m-> 1385\u001b[1;33m                   override_num_retries=override_num_retries)\n\u001b[0m\u001b[0;32m   1386\u001b[0m \u001b[1;33m\u001b[0m\u001b[0m\n\u001b[0;32m   1387\u001b[0m         \u001b[0mdata_len\u001b[0m \u001b[1;33m=\u001b[0m \u001b[1;36m0\u001b[0m\u001b[1;33m\u001b[0m\u001b[0m\n",
        "\u001b[1;32m/opt/anaconda/envs/np17py27-1.5/lib/python2.7/site-packages/boto/s3/key.pyc\u001b[0m in \u001b[0;36mopen\u001b[1;34m(self, mode, headers, query_args, override_num_retries)\u001b[0m\n\u001b[0;32m    316\u001b[0m             \u001b[0mself\u001b[0m\u001b[1;33m.\u001b[0m\u001b[0mmode\u001b[0m \u001b[1;33m=\u001b[0m \u001b[1;34m'r'\u001b[0m\u001b[1;33m\u001b[0m\u001b[0m\n\u001b[0;32m    317\u001b[0m             self.open_read(headers=headers, query_args=query_args,\n\u001b[1;32m--> 318\u001b[1;33m                            override_num_retries=override_num_retries)\n\u001b[0m\u001b[0;32m    319\u001b[0m         \u001b[1;32melif\u001b[0m \u001b[0mmode\u001b[0m \u001b[1;33m==\u001b[0m \u001b[1;34m'w'\u001b[0m\u001b[1;33m:\u001b[0m\u001b[1;33m\u001b[0m\u001b[0m\n\u001b[0;32m    320\u001b[0m             \u001b[0mself\u001b[0m\u001b[1;33m.\u001b[0m\u001b[0mmode\u001b[0m \u001b[1;33m=\u001b[0m \u001b[1;34m'w'\u001b[0m\u001b[1;33m\u001b[0m\u001b[0m\n",
        "\u001b[1;32m/opt/anaconda/envs/np17py27-1.5/lib/python2.7/site-packages/boto/s3/key.pyc\u001b[0m in \u001b[0;36mopen_read\u001b[1;34m(self, headers, query_args, override_num_retries, response_headers)\u001b[0m\n\u001b[0;32m    265\u001b[0m                 \u001b[0mbody\u001b[0m \u001b[1;33m=\u001b[0m \u001b[0mself\u001b[0m\u001b[1;33m.\u001b[0m\u001b[0mresp\u001b[0m\u001b[1;33m.\u001b[0m\u001b[0mread\u001b[0m\u001b[1;33m(\u001b[0m\u001b[1;33m)\u001b[0m\u001b[1;33m\u001b[0m\u001b[0m\n\u001b[0;32m    266\u001b[0m                 raise provider.storage_response_error(self.resp.status,\n\u001b[1;32m--> 267\u001b[1;33m                                                       self.resp.reason, body)\n\u001b[0m\u001b[0;32m    268\u001b[0m             \u001b[0mresponse_headers\u001b[0m \u001b[1;33m=\u001b[0m \u001b[0mself\u001b[0m\u001b[1;33m.\u001b[0m\u001b[0mresp\u001b[0m\u001b[1;33m.\u001b[0m\u001b[0mmsg\u001b[0m\u001b[1;33m\u001b[0m\u001b[0m\n\u001b[0;32m    269\u001b[0m             self.metadata = boto.utils.get_aws_metadata(response_headers,\n",
        "\u001b[1;31mS3ResponseError\u001b[0m: S3ResponseError: 404 Not Found\n<?xml version=\"1.0\" encoding=\"UTF-8\"?>\n<Error><Code>NoSuchKey</Code><Message>The specified key does not exist.</Message><Key>latest.h5.blosc</Key><RequestId>E393E29EC01F97E5</RequestId><HostId>tNEDlAQzSSC9I94bGeGooXdK6bhi/djZRNdLrLtf0b+9L5HTA3ZCe0tpjPcWsGxI</HostId></Error>"
       ]
      }
     ],
     "prompt_number": 12
    },
    {
     "cell_type": "code",
     "collapsed": false,
     "input": [
      "pd.HDFStore(\n",
      "k.set_contents_from_stream"
     ],
     "language": "python",
     "metadata": {},
     "outputs": []
    }
   ],
   "metadata": {}
  }
 ]
}