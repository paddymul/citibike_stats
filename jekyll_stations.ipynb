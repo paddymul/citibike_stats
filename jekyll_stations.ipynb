{
 "metadata": {
  "name": "jekyll_stations"
 },
 "nbformat": 3,
 "nbformat_minor": 0,
 "worksheets": [
  {
   "cells": [
    {
     "cell_type": "code",
     "collapsed": false,
     "input": [
      "import yaml"
     ],
     "language": "python",
     "metadata": {},
     "outputs": [],
     "prompt_number": 1
    },
    {
     "cell_type": "code",
     "collapsed": false,
     "input": [
      "print yaml.dump({'paddy':30, 'foo': \"hello\", \"bar\": {'boof':3}})"
     ],
     "language": "python",
     "metadata": {},
     "outputs": [
      {
       "output_type": "stream",
       "stream": "stdout",
       "text": [
        "bar: {boof: 3}\n",
        "foo: hello\n",
        "paddy: 30\n",
        "\n"
       ]
      }
     ],
     "prompt_number": 4
    },
    {
     "cell_type": "code",
     "collapsed": false,
     "input": [
      "import pandas as pd\n",
      "def grab_existing():\n",
      "    store = pd.HDFStore('store.comp.h5')\n",
      "    df = store['df']\n",
      "    store.close()\n",
      "    return df\n",
      "df = grab_existing()"
     ],
     "language": "python",
     "metadata": {},
     "outputs": [],
     "prompt_number": 5
    },
    {
     "cell_type": "code",
     "collapsed": false,
     "input": [
      "from boto.s3.connection import S3Connection\n",
      "import json\n",
      "secret_key = json.loads(open(os.path.expanduser(\n",
      "            \"~/.ec2/s3_credentials.json\")).read())\n",
      "conn = S3Connection(*secret_key.items()[0])\n",
      "bucket = conn.get_bucket(\"citibikedata.com\")\n",
      "def save_to_s3(df):\n",
      "    secret_key = json.loads(open(os.path.expanduser(\n",
      "            \"~/.ec2/s3_credentials.json\")).read())\n",
      "    conn = S3Connection(*secret_key.items()[0])\n",
      "    bucket = conn.get_bucket(\"citibikedata.com\")\n",
      "    k = Key(bucket)\n",
      "    k.key = \"latest.h5.blosc\"\n",
      "\n",
      "    k.set_contents_from_filename(fname)\n",
      "    k.set_acl('public-read')\n",
      "    return  k\n"
     ],
     "language": "python",
     "metadata": {},
     "outputs": [
      {
       "ename": "NameError",
       "evalue": "name 'json' is not defined",
       "output_type": "pyerr",
       "traceback": [
        "\u001b[1;31m---------------------------------------------------------------------------\u001b[0m\n\u001b[1;31mNameError\u001b[0m                                 Traceback (most recent call last)",
        "\u001b[1;32m<ipython-input-6-0bb74a3abaf2>\u001b[0m in \u001b[0;36m<module>\u001b[1;34m()\u001b[0m\n\u001b[0;32m      1\u001b[0m \u001b[1;32mfrom\u001b[0m \u001b[0mboto\u001b[0m\u001b[1;33m.\u001b[0m\u001b[0ms3\u001b[0m\u001b[1;33m.\u001b[0m\u001b[0mconnection\u001b[0m \u001b[1;32mimport\u001b[0m \u001b[0mS3Connection\u001b[0m\u001b[1;33m\u001b[0m\u001b[0m\n\u001b[1;32m----> 2\u001b[1;33m secret_key = json.loads(open(os.path.expanduser(\n\u001b[0m\u001b[0;32m      3\u001b[0m             \"~/.ec2/s3_credentials.json\")).read())\n\u001b[0;32m      4\u001b[0m \u001b[0mconn\u001b[0m \u001b[1;33m=\u001b[0m \u001b[0mS3Connection\u001b[0m\u001b[1;33m(\u001b[0m\u001b[1;33m*\u001b[0m\u001b[0msecret_key\u001b[0m\u001b[1;33m.\u001b[0m\u001b[0mitems\u001b[0m\u001b[1;33m(\u001b[0m\u001b[1;33m)\u001b[0m\u001b[1;33m[\u001b[0m\u001b[1;36m0\u001b[0m\u001b[1;33m]\u001b[0m\u001b[1;33m)\u001b[0m\u001b[1;33m\u001b[0m\u001b[0m\n\u001b[0;32m      5\u001b[0m \u001b[0mbucket\u001b[0m \u001b[1;33m=\u001b[0m \u001b[0mconn\u001b[0m\u001b[1;33m.\u001b[0m\u001b[0mget_bucket\u001b[0m\u001b[1;33m(\u001b[0m\u001b[1;34m\"citibikedata.com\"\u001b[0m\u001b[1;33m)\u001b[0m\u001b[1;33m\u001b[0m\u001b[0m\n",
        "\u001b[1;31mNameError\u001b[0m: name 'json' is not defined"
       ]
      }
     ],
     "prompt_number": 6
    },
    {
     "cell_type": "code",
     "collapsed": false,
     "input": [
      "from boto.s3.connection import S3Connection\n",
      "from boto.s3.key import Key\n",
      "import json, os\n",
      "secret_key = json.loads(open(os.path.expanduser(\n",
      "            \"~/.ec2/s3_credentials.json\")).read())\n",
      "conn = S3Connection(*secret_key.items()[0])\n",
      "bucket = conn.get_bucket(\"citibikedata.com\")\n",
      "k = Key(bucket)\n",
      "k.key = \"latest.h5.blosc\"\n",
      "k"
     ],
     "language": "python",
     "metadata": {},
     "outputs": [],
     "prompt_number": 9
    },
    {
     "cell_type": "code",
     "collapsed": false,
     "input": [
      "store = pd.HDFStore('store.comp.h5')"
     ],
     "language": "python",
     "metadata": {},
     "outputs": [],
     "prompt_number": 10
    },
    {
     "cell_type": "code",
     "collapsed": false,
     "input": [
      "k.get_file('latest.h5.blosc')"
     ],
     "language": "python",
     "metadata": {},
     "outputs": [
      {
       "ename": "S3ResponseError",
       "evalue": "S3ResponseError: 404 Not Found\n<?xml version=\"1.0\" encoding=\"UTF-8\"?>\n<Error><Code>NoSuchKey</Code><Message>The specified key does not exist.</Message><Key>latest.h5.blosc</Key><RequestId>E393E29EC01F97E5</RequestId><HostId>tNEDlAQzSSC9I94bGeGooXdK6bhi/djZRNdLrLtf0b+9L5HTA3ZCe0tpjPcWsGxI</HostId></Error>",
       "output_type": "pyerr",
       "traceback": [
        "\u001b[1;31m---------------------------------------------------------------------------\u001b[0m\n\u001b[1;31mS3ResponseError\u001b[0m                           Traceback (most recent call last)",
        "\u001b[1;32m<ipython-input-12-50bd4cdf61b8>\u001b[0m in \u001b[0;36m<module>\u001b[1;34m()\u001b[0m\n\u001b[1;32m----> 1\u001b[1;33m \u001b[0mk\u001b[0m\u001b[1;33m.\u001b[0m\u001b[0mget_file\u001b[0m\u001b[1;33m(\u001b[0m\u001b[1;34m'latest.h5.blosc'\u001b[0m\u001b[1;33m)\u001b[0m\u001b[1;33m\u001b[0m\u001b[0m\n\u001b[0m",
        "\u001b[1;32m/opt/anaconda/envs/np17py27-1.5/lib/python2.7/site-packages/boto/s3/key.pyc\u001b[0m in \u001b[0;36mget_file\u001b[1;34m(self, fp, headers, cb, num_cb, torrent, version_id, override_num_retries, response_headers)\u001b[0m\n\u001b[0;32m   1351\u001b[0m                                 \u001b[0mresponse_headers\u001b[0m\u001b[1;33m=\u001b[0m\u001b[0mresponse_headers\u001b[0m\u001b[1;33m,\u001b[0m\u001b[1;33m\u001b[0m\u001b[0m\n\u001b[0;32m   1352\u001b[0m                                 \u001b[0mhash_algs\u001b[0m\u001b[1;33m=\u001b[0m\u001b[0mNone\u001b[0m\u001b[1;33m,\u001b[0m\u001b[1;33m\u001b[0m\u001b[0m\n\u001b[1;32m-> 1353\u001b[1;33m                                 query_args=None)\n\u001b[0m\u001b[0;32m   1354\u001b[0m \u001b[1;33m\u001b[0m\u001b[0m\n\u001b[0;32m   1355\u001b[0m     def _get_file_internal(self, fp, headers=None, cb=None, num_cb=10,\n",
        "\u001b[1;32m/opt/anaconda/envs/np17py27-1.5/lib/python2.7/site-packages/boto/s3/key.pyc\u001b[0m in \u001b[0;36m_get_file_internal\u001b[1;34m(self, fp, headers, cb, num_cb, torrent, version_id, override_num_retries, response_headers, hash_algs, query_args)\u001b[0m\n\u001b[0;32m   1383\u001b[0m         \u001b[0mquery_args\u001b[0m \u001b[1;33m=\u001b[0m \u001b[1;34m'&'\u001b[0m\u001b[1;33m.\u001b[0m\u001b[0mjoin\u001b[0m\u001b[1;33m(\u001b[0m\u001b[0mquery_args\u001b[0m\u001b[1;33m)\u001b[0m\u001b[1;33m\u001b[0m\u001b[0m\n\u001b[0;32m   1384\u001b[0m         self.open('r', headers, query_args=query_args,\n\u001b[1;32m-> 1385\u001b[1;33m                   override_num_retries=override_num_retries)\n\u001b[0m\u001b[0;32m   1386\u001b[0m \u001b[1;33m\u001b[0m\u001b[0m\n\u001b[0;32m   1387\u001b[0m         \u001b[0mdata_len\u001b[0m \u001b[1;33m=\u001b[0m \u001b[1;36m0\u001b[0m\u001b[1;33m\u001b[0m\u001b[0m\n",
        "\u001b[1;32m/opt/anaconda/envs/np17py27-1.5/lib/python2.7/site-packages/boto/s3/key.pyc\u001b[0m in \u001b[0;36mopen\u001b[1;34m(self, mode, headers, query_args, override_num_retries)\u001b[0m\n\u001b[0;32m    316\u001b[0m             \u001b[0mself\u001b[0m\u001b[1;33m.\u001b[0m\u001b[0mmode\u001b[0m \u001b[1;33m=\u001b[0m \u001b[1;34m'r'\u001b[0m\u001b[1;33m\u001b[0m\u001b[0m\n\u001b[0;32m    317\u001b[0m             self.open_read(headers=headers, query_args=query_args,\n\u001b[1;32m--> 318\u001b[1;33m                            override_num_retries=override_num_retries)\n\u001b[0m\u001b[0;32m    319\u001b[0m         \u001b[1;32melif\u001b[0m \u001b[0mmode\u001b[0m \u001b[1;33m==\u001b[0m \u001b[1;34m'w'\u001b[0m\u001b[1;33m:\u001b[0m\u001b[1;33m\u001b[0m\u001b[0m\n\u001b[0;32m    320\u001b[0m             \u001b[0mself\u001b[0m\u001b[1;33m.\u001b[0m\u001b[0mmode\u001b[0m \u001b[1;33m=\u001b[0m \u001b[1;34m'w'\u001b[0m\u001b[1;33m\u001b[0m\u001b[0m\n",
        "\u001b[1;32m/opt/anaconda/envs/np17py27-1.5/lib/python2.7/site-packages/boto/s3/key.pyc\u001b[0m in \u001b[0;36mopen_read\u001b[1;34m(self, headers, query_args, override_num_retries, response_headers)\u001b[0m\n\u001b[0;32m    265\u001b[0m                 \u001b[0mbody\u001b[0m \u001b[1;33m=\u001b[0m \u001b[0mself\u001b[0m\u001b[1;33m.\u001b[0m\u001b[0mresp\u001b[0m\u001b[1;33m.\u001b[0m\u001b[0mread\u001b[0m\u001b[1;33m(\u001b[0m\u001b[1;33m)\u001b[0m\u001b[1;33m\u001b[0m\u001b[0m\n\u001b[0;32m    266\u001b[0m                 raise provider.storage_response_error(self.resp.status,\n\u001b[1;32m--> 267\u001b[1;33m                                                       self.resp.reason, body)\n\u001b[0m\u001b[0;32m    268\u001b[0m             \u001b[0mresponse_headers\u001b[0m \u001b[1;33m=\u001b[0m \u001b[0mself\u001b[0m\u001b[1;33m.\u001b[0m\u001b[0mresp\u001b[0m\u001b[1;33m.\u001b[0m\u001b[0mmsg\u001b[0m\u001b[1;33m\u001b[0m\u001b[0m\n\u001b[0;32m    269\u001b[0m             self.metadata = boto.utils.get_aws_metadata(response_headers,\n",
        "\u001b[1;31mS3ResponseError\u001b[0m: S3ResponseError: 404 Not Found\n<?xml version=\"1.0\" encoding=\"UTF-8\"?>\n<Error><Code>NoSuchKey</Code><Message>The specified key does not exist.</Message><Key>latest.h5.blosc</Key><RequestId>E393E29EC01F97E5</RequestId><HostId>tNEDlAQzSSC9I94bGeGooXdK6bhi/djZRNdLrLtf0b+9L5HTA3ZCe0tpjPcWsGxI</HostId></Error>"
       ]
      }
     ],
     "prompt_number": 12
    },
    {
     "cell_type": "code",
     "collapsed": false,
     "input": [
      "pd.HDFStore(\n",
      "k.set_contents_from_stream"
     ],
     "language": "python",
     "metadata": {},
     "outputs": []
    }
   ],
   "metadata": {}
  }
 ]
}