{
 "metadata": {
  "name": "estimate_usage2"
 },
 "nbformat": 3,
 "nbformat_minor": 0,
 "worksheets": [
  {
   "cells": [
    {
     "cell_type": "code",
     "collapsed": false,
     "input": [
      "from collections import defaultdict\n",
      "import json\n",
      "example_stations_by_time = defaultdict(dict)\n",
      "def pandas_process_file(fname, field_name=\"availableDocks\", collection_dict=example_stations_by_time):\n",
      "    stats = json.loads(open(fname).read())\n",
      "    et = stats['executionTime']\n",
      "    for s in stats['stationBeanList']:\n",
      "        collection_dict[s['id']][et] = s[field_name]\n",
      "    return stats\n",
      "pandas_process_file('stations-05-28-13_38_26.json')\n",
      "pandas_process_file('stations-05-28-16_04_24.json')\n",
      "print example_stations_by_time.__repr__()[0:500]"
     ],
     "language": "python",
     "metadata": {},
     "outputs": [
      {
       "output_type": "stream",
       "stream": "stdout",
       "text": [
        "defaultdict(<type 'dict'>, {512: {u'2013-05-28 01:37:01 PM': 18, u'2013-05-28 04:04:01 PM': 18}, 513: {u'2013-05-28 01:37:01 PM': 23, u'2013-05-28 04:04:01 PM': 23}, 514: {u'2013-05-28 01:37:01 PM': 30, u'2013-05-28 04:04:01 PM': 30}, 515: {u'2013-05-28 01:37:01 PM': 34, u'2013-05-28 04:04:01 PM': 34}, 517: {u'2013-05-28 01:37:01 PM': 32, u'2013-05-28 04:04:01 PM': 22}, 518: {u'2013-05-28 01:37:01 PM': 15, u'2013-05-28 04:04:01 PM': 16}, 519: {u'2013-05-28 01:37:01 PM': 30, u'2013-05-28 04:04:01\n"
       ]
      }
     ],
     "prompt_number": 1
    },
    {
     "cell_type": "code",
     "collapsed": false,
     "input": [
      "import os\n",
      "import pandas as pd\n",
      "import numpy as np\n",
      "\n",
      "        \n",
      "def process_directory(d_name):\n",
      "    \"\"\"This function processes all files in a directory that start with stations- and\n",
      "    returns a dict of dicts suitable for pandas DataFrame ingestion\"\"\"\n",
      "    stations_by_time = defaultdict(dict)\n",
      "    disregard, disregard2, station_files = os.walk(d_name).next()\n",
      "    for fname in station_files:\n",
      "        if fname.find('stations-') == -1:\n",
      "            continue\n",
      "        full_fname = os.path.join(d_name, fname)\n",
      "        \n",
      "        #print full_fname,\n",
      "        try:\n",
      "            pandas_process_file(full_fname, collection_dict=stations_by_time)\n",
      "        except Exception, e:\n",
      "            print e, full_fname\n",
      "        \n",
      "\n",
      "    return stations_by_time"
     ],
     "language": "python",
     "metadata": {},
     "outputs": [],
     "prompt_number": 2
    },
    {
     "cell_type": "code",
     "collapsed": false,
     "input": [
      "df = pd.DataFrame(process_directory('../../data_citibike'))\n",
      "df[72]"
     ],
     "language": "python",
     "metadata": {},
     "outputs": [
      {
       "output_type": "stream",
       "stream": "stdout",
       "text": [
        "No JSON object could be decoded ../../data_citibike/stations-06-12-02_21_14.json\n",
        "No JSON object could be decoded"
       ]
      },
      {
       "output_type": "stream",
       "stream": "stdout",
       "text": [
        " ../../data_citibike/stations-06-12-01_56_00.json\n",
        "No JSON object could be decoded"
       ]
      },
      {
       "output_type": "stream",
       "stream": "stdout",
       "text": [
        " ../../data_citibike/stations-06-12-02_17_11.json\n",
        "No JSON object could be decoded"
       ]
      },
      {
       "output_type": "stream",
       "stream": "stdout",
       "text": [
        " ../../data_citibike/stations-06-12-01_47_55.json\n",
        "No JSON object could be decoded"
       ]
      },
      {
       "output_type": "stream",
       "stream": "stdout",
       "text": [
        " ../../data_citibike/stations-06-12-02_14_10.json\n",
        "No JSON object could be decoded"
       ]
      },
      {
       "output_type": "stream",
       "stream": "stdout",
       "text": [
        " ../../data_citibike/stations-06-12-01_33_47.json\n",
        "No JSON object could be decoded"
       ]
      },
      {
       "output_type": "stream",
       "stream": "stdout",
       "text": [
        " ../../data_citibike/stations-06-12-02_18_12.json\n",
        "No JSON object could be decoded"
       ]
      },
      {
       "output_type": "stream",
       "stream": "stdout",
       "text": [
        " ../../data_citibike/stations-06-12-01_30_46.json\n",
        "No JSON object could be decoded"
       ]
      },
      {
       "output_type": "stream",
       "stream": "stdout",
       "text": [
        " ../../data_citibike/stations-06-12-01_27_44.json\n",
        "No JSON object could be decoded"
       ]
      },
      {
       "output_type": "stream",
       "stream": "stdout",
       "text": [
        " ../../data_citibike/stations-06-12-01_11_35.json\n",
        "No JSON object could be decoded"
       ]
      },
      {
       "output_type": "stream",
       "stream": "stdout",
       "text": [
        " ../../data_citibike/stations-06-12-01_44_54.json\n",
        "No JSON object could be decoded"
       ]
      },
      {
       "output_type": "stream",
       "stream": "stdout",
       "text": [
        " ../../data_citibike/stations-06-12-01_03_31.json\n",
        "No JSON object could be decoded"
       ]
      },
      {
       "output_type": "stream",
       "stream": "stdout",
       "text": [
        " ../../data_citibike/stations-06-12-02_03_04.json\n",
        "No JSON object could be decoded"
       ]
      },
      {
       "output_type": "stream",
       "stream": "stdout",
       "text": [
        " ../../data_citibike/stations-06-12-01_25_43.json\n",
        "No JSON object could be decoded"
       ]
      },
      {
       "output_type": "stream",
       "stream": "stdout",
       "text": [
        " ../../data_citibike/stations-06-12-02_15_10.json\n",
        "No JSON object could be decoded"
       ]
      },
      {
       "output_type": "stream",
       "stream": "stdout",
       "text": [
        " ../../data_citibike/stations-06-11-17_00_14.json\n",
        "No JSON object could be decoded"
       ]
      },
      {
       "output_type": "stream",
       "stream": "stdout",
       "text": [
        " ../../data_citibike/stations-06-12-01_42_53.json\n",
        "No JSON object could be decoded"
       ]
      },
      {
       "output_type": "stream",
       "stream": "stdout",
       "text": [
        " ../../data_citibike/stations-06-12-02_12_09.json\n",
        "No JSON object could be decoded"
       ]
      },
      {
       "output_type": "stream",
       "stream": "stdout",
       "text": [
        " ../../data_citibike/stations-06-12-01_10_35.json\n",
        "No JSON object could be decoded"
       ]
      },
      {
       "output_type": "stream",
       "stream": "stdout",
       "text": [
        " ../../data_citibike/stations-06-12-02_08_06.json\n",
        "No JSON object could be decoded"
       ]
      },
      {
       "output_type": "stream",
       "stream": "stdout",
       "text": [
        " ../../data_citibike/stations-06-12-01_53_59.json\n",
        "No JSON object could be decoded"
       ]
      },
      {
       "output_type": "stream",
       "stream": "stdout",
       "text": [
        " ../../data_citibike/stations-06-12-02_20_13.json\n",
        "No JSON object could be decoded"
       ]
      },
      {
       "output_type": "stream",
       "stream": "stdout",
       "text": [
        " ../../data_citibike/stations-06-12-01_09_34.json\n",
        "No JSON object could be decoded"
       ]
      },
      {
       "output_type": "stream",
       "stream": "stdout",
       "text": [
        " ../../data_citibike/stations-06-12-01_26_43.json\n",
        "No JSON object could be decoded"
       ]
      },
      {
       "output_type": "stream",
       "stream": "stdout",
       "text": [
        " ../../data_citibike/stations-06-12-01_45_54.json\n",
        "No JSON object could be decoded"
       ]
      },
      {
       "output_type": "stream",
       "stream": "stdout",
       "text": [
        " ../../data_citibike/stations-06-12-01_41_52.json\n",
        "No JSON object could be decoded"
       ]
      },
      {
       "output_type": "stream",
       "stream": "stdout",
       "text": [
        " ../../data_citibike/stations-06-12-02_04_04.json\n",
        "No JSON object could be decoded"
       ]
      },
      {
       "output_type": "stream",
       "stream": "stdout",
       "text": [
        " ../../data_citibike/stations-06-12-01_06_32.json\n",
        "No JSON object could be decoded"
       ]
      },
      {
       "output_type": "stream",
       "stream": "stdout",
       "text": [
        " ../../data_citibike/stations-06-12-02_05_05.json\n",
        "No JSON object could be decoded"
       ]
      },
      {
       "output_type": "stream",
       "stream": "stdout",
       "text": [
        " ../../data_citibike/stations-06-12-01_58_01.json\n",
        "No JSON object could be decoded"
       ]
      },
      {
       "output_type": "stream",
       "stream": "stdout",
       "text": [
        " ../../data_citibike/stations-06-12-01_08_33.json\n",
        "No JSON object could be decoded"
       ]
      },
      {
       "output_type": "stream",
       "stream": "stdout",
       "text": [
        " ../../data_citibike/stations-06-12-02_23_15.json\n",
        "No JSON object could be decoded"
       ]
      },
      {
       "output_type": "stream",
       "stream": "stdout",
       "text": [
        " ../../data_citibike/stations-06-12-01_04_31.json\n",
        "No JSON object could be decoded"
       ]
      },
      {
       "output_type": "stream",
       "stream": "stdout",
       "text": [
        " ../../data_citibike/stations-06-12-01_23_42.json\n",
        "No JSON object could be decoded"
       ]
      },
      {
       "output_type": "stream",
       "stream": "stdout",
       "text": [
        " ../../data_citibike/stations-06-12-02_31_19.json\n",
        "No JSON object could be decoded"
       ]
      },
      {
       "output_type": "stream",
       "stream": "stdout",
       "text": [
        " ../../data_citibike/stations-06-12-01_12_36.json\n",
        "No JSON object could be decoded"
       ]
      },
      {
       "output_type": "stream",
       "stream": "stdout",
       "text": [
        " ../../data_citibike/stations-06-12-01_37_50.json\n",
        "No JSON object could be decoded"
       ]
      },
      {
       "output_type": "stream",
       "stream": "stdout",
       "text": [
        " ../../data_citibike/stations-06-12-01_40_52.json\n",
        "No JSON object could be decoded"
       ]
      },
      {
       "output_type": "stream",
       "stream": "stdout",
       "text": [
        " ../../data_citibike/stations-06-12-01_24_42.json\n",
        "No JSON object could be decoded"
       ]
      },
      {
       "output_type": "stream",
       "stream": "stdout",
       "text": [
        " ../../data_citibike/stations-06-12-02_13_09.json\n",
        "No JSON object could be decoded"
       ]
      },
      {
       "output_type": "stream",
       "stream": "stdout",
       "text": [
        " ../../data_citibike/stations-06-12-02_30_19.json\n",
        "No JSON object could be decoded"
       ]
      },
      {
       "output_type": "stream",
       "stream": "stdout",
       "text": [
        " ../../data_citibike/stations-06-12-01_02_30.json\n",
        "No JSON object could be decoded"
       ]
      },
      {
       "output_type": "stream",
       "stream": "stdout",
       "text": [
        " ../../data_citibike/stations-06-12-02_29_18.json\n",
        "No JSON object could be decoded"
       ]
      },
      {
       "output_type": "stream",
       "stream": "stdout",
       "text": [
        " ../../data_citibike/stations-06-12-01_32_47.json\n",
        "No JSON object could be decoded"
       ]
      },
      {
       "output_type": "stream",
       "stream": "stdout",
       "text": [
        " ../../data_citibike/stations-06-12-02_06_05.json\n",
        "No JSON object could be decoded"
       ]
      },
      {
       "output_type": "stream",
       "stream": "stdout",
       "text": [
        " ../../data_citibike/stations-06-12-02_33_21.json\n",
        "No JSON object could be decoded"
       ]
      },
      {
       "output_type": "stream",
       "stream": "stdout",
       "text": [
        " ../../data_citibike/stations-06-12-01_51_58.json\n",
        "No JSON object could be decoded"
       ]
      },
      {
       "output_type": "stream",
       "stream": "stdout",
       "text": [
        " ../../data_citibike/stations-06-11-10_33_26.json\n",
        "No JSON object could be decoded"
       ]
      },
      {
       "output_type": "stream",
       "stream": "stdout",
       "text": [
        " ../../data_citibike/stations-06-12-01_15_37.json\n",
        "No JSON object could be decoded"
       ]
      },
      {
       "output_type": "stream",
       "stream": "stdout",
       "text": [
        " ../../data_citibike/stations-06-12-01_59_02.json\n",
        "No JSON object could be decoded"
       ]
      },
      {
       "output_type": "stream",
       "stream": "stdout",
       "text": [
        " ../../data_citibike/stations-06-12-01_34_48.json\n",
        "No JSON object could be decoded"
       ]
      },
      {
       "output_type": "stream",
       "stream": "stdout",
       "text": [
        " ../../data_citibike/stations-06-12-01_22_41.json\n",
        "No JSON object could be decoded"
       ]
      },
      {
       "output_type": "stream",
       "stream": "stdout",
       "text": [
        " ../../data_citibike/stations-06-12-01_48_56.json\n",
        "No JSON object could be decoded"
       ]
      },
      {
       "output_type": "stream",
       "stream": "stdout",
       "text": [
        " ../../data_citibike/stations-06-12-01_50_57.json\n",
        "No JSON object could be decoded"
       ]
      },
      {
       "output_type": "stream",
       "stream": "stdout",
       "text": [
        " ../../data_citibike/stations-06-12-01_49_56.json\n",
        "No JSON object could be decoded"
       ]
      },
      {
       "output_type": "stream",
       "stream": "stdout",
       "text": [
        " ../../data_citibike/stations-06-12-01_21_41.json\n",
        "No JSON object could be decoded"
       ]
      },
      {
       "output_type": "stream",
       "stream": "stdout",
       "text": [
        " ../../data_citibike/stations-06-12-01_07_33.json\n",
        "No JSON object could be decoded"
       ]
      },
      {
       "output_type": "stream",
       "stream": "stdout",
       "text": [
        " ../../data_citibike/stations-06-12-01_36_49.json\n",
        "No JSON object could be decoded"
       ]
      },
      {
       "output_type": "stream",
       "stream": "stdout",
       "text": [
        " ../../data_citibike/stations-06-12-01_31_46.json\n",
        "No JSON object could be decoded"
       ]
      },
      {
       "output_type": "stream",
       "stream": "stdout",
       "text": [
        " ../../data_citibike/stations-06-12-10_33_44.json\n",
        "No JSON object could be decoded"
       ]
      },
      {
       "output_type": "stream",
       "stream": "stdout",
       "text": [
        " ../../data_citibike/stations-06-12-02_07_06.json\n",
        "No JSON object could be decoded"
       ]
      },
      {
       "output_type": "stream",
       "stream": "stdout",
       "text": [
        " ../../data_citibike/stations-06-12-02_25_16.json\n",
        "No JSON object could be decoded"
       ]
      },
      {
       "output_type": "stream",
       "stream": "stdout",
       "text": [
        " ../../data_citibike/stations-06-12-02_11_08.json\n",
        "No JSON object could be decoded"
       ]
      },
      {
       "output_type": "stream",
       "stream": "stdout",
       "text": [
        " ../../data_citibike/stations-06-12-01_20_40.json\n",
        "No JSON object could be decoded"
       ]
      },
      {
       "output_type": "stream",
       "stream": "stdout",
       "text": [
        " ../../data_citibike/stations-06-12-01_05_32.json\n",
        "No JSON object could be decoded"
       ]
      },
      {
       "output_type": "stream",
       "stream": "stdout",
       "text": [
        " ../../data_citibike/stations-06-12-01_19_40.json\n",
        "No JSON object could be decoded ../../data_citibike/stations-06-12-01_52_58.json\n",
        "No JSON object could be decoded"
       ]
      },
      {
       "output_type": "stream",
       "stream": "stdout",
       "text": [
        " ../../data_citibike/stations-06-12-01_39_51.json\n",
        "No JSON object could be decoded"
       ]
      },
      {
       "output_type": "stream",
       "stream": "stdout",
       "text": [
        " ../../data_citibike/stations-06-12-01_18_39.json\n",
        "No JSON object could be decoded"
       ]
      },
      {
       "output_type": "stream",
       "stream": "stdout",
       "text": [
        " ../../data_citibike/stations-06-12-02_28_18.json\n",
        "No JSON object could be decoded"
       ]
      },
      {
       "output_type": "stream",
       "stream": "stdout",
       "text": [
        " ../../data_citibike/stations-06-12-01_54_59.json\n",
        "No JSON object could be decoded"
       ]
      },
      {
       "output_type": "stream",
       "stream": "stdout",
       "text": [
        " ../../data_citibike/stations-06-12-02_01_03.json\n",
        "No JSON object could be decoded"
       ]
      },
      {
       "output_type": "stream",
       "stream": "stdout",
       "text": [
        " ../../data_citibike/stations-06-12-02_24_15.json\n",
        "No JSON object could be decoded"
       ]
      },
      {
       "output_type": "stream",
       "stream": "stdout",
       "text": [
        " ../../data_citibike/stations-06-12-01_28_45.json\n",
        "No JSON object could be decoded"
       ]
      },
      {
       "output_type": "stream",
       "stream": "stdout",
       "text": [
        " ../../data_citibike/stations-06-12-01_13_36.json\n",
        "No JSON object could be decoded ../../data_citibike/stations-06-12-02_02_03.json\n",
        "No JSON object could be decoded"
       ]
      },
      {
       "output_type": "stream",
       "stream": "stdout",
       "text": [
        " ../../data_citibike/stations-06-12-02_09_07.json\n",
        "No JSON object could be decoded"
       ]
      },
      {
       "output_type": "stream",
       "stream": "stdout",
       "text": [
        " ../../data_citibike/stations-06-12-01_43_53.json\n",
        "No JSON object could be decoded"
       ]
      },
      {
       "output_type": "stream",
       "stream": "stdout",
       "text": [
        " ../../data_citibike/stations-06-12-01_35_48.json\n",
        "No JSON object could be decoded"
       ]
      },
      {
       "output_type": "stream",
       "stream": "stdout",
       "text": [
        " ../../data_citibike/stations-06-12-01_17_38.json\n",
        "No JSON object could be decoded"
       ]
      },
      {
       "output_type": "stream",
       "stream": "stdout",
       "text": [
        " ../../data_citibike/stations-06-12-01_29_45.json\n",
        "No JSON object could be decoded"
       ]
      },
      {
       "output_type": "stream",
       "stream": "stdout",
       "text": [
        " ../../data_citibike/stations-06-12-01_38_50.json\n",
        "No JSON object could be decoded"
       ]
      },
      {
       "output_type": "stream",
       "stream": "stdout",
       "text": [
        " ../../data_citibike/stations-06-12-02_26_17.json\n",
        "No JSON object could be decoded"
       ]
      },
      {
       "output_type": "stream",
       "stream": "stdout",
       "text": [
        " ../../data_citibike/stations-06-12-02_16_11.json\n",
        "No JSON object could be decoded"
       ]
      },
      {
       "output_type": "stream",
       "stream": "stdout",
       "text": [
        " ../../data_citibike/stations-06-12-02_32_20.json\n",
        "No JSON object could be decoded"
       ]
      },
      {
       "output_type": "stream",
       "stream": "stdout",
       "text": [
        " ../../data_citibike/stations-06-12-01_01_30.json\n",
        "No JSON object could be decoded"
       ]
      },
      {
       "output_type": "stream",
       "stream": "stdout",
       "text": [
        " ../../data_citibike/stations-06-12-02_00_02.json\n",
        "No JSON object could be decoded"
       ]
      },
      {
       "output_type": "stream",
       "stream": "stdout",
       "text": [
        " ../../data_citibike/stations-06-12-02_27_17.json\n",
        "No JSON object could be decoded"
       ]
      },
      {
       "output_type": "stream",
       "stream": "stdout",
       "text": [
        " ../../data_citibike/stations-06-12-01_57_00.json\n",
        "No JSON object could be decoded ../../data_citibike/stations-06-12-01_16_38.json\n",
        "No JSON object could be decoded"
       ]
      },
      {
       "output_type": "stream",
       "stream": "stdout",
       "text": [
        " ../../data_citibike/stations-06-12-02_10_08.json\n",
        "No JSON object could be decoded"
       ]
      },
      {
       "output_type": "stream",
       "stream": "stdout",
       "text": [
        " ../../data_citibike/stations-06-12-02_19_13.json\n",
        "No JSON object could be decoded"
       ]
      },
      {
       "output_type": "stream",
       "stream": "stdout",
       "text": [
        " ../../data_citibike/stations-06-12-02_22_14.json\n",
        "No JSON object could be decoded"
       ]
      },
      {
       "output_type": "stream",
       "stream": "stdout",
       "text": [
        " ../../data_citibike/stations-06-12-01_46_55.json\n",
        "No JSON object could be decoded"
       ]
      },
      {
       "output_type": "stream",
       "stream": "stdout",
       "text": [
        " ../../data_citibike/stations-06-12-01_14_37.json\n"
       ]
      },
      {
       "output_type": "pyout",
       "prompt_number": 3,
       "text": [
        "2013-06-06 01:01:01 PM    24\n",
        "2013-06-06 01:03:01 PM    25\n",
        "2013-06-06 01:05:01 PM    25\n",
        "2013-06-06 01:07:02 PM    25\n",
        "2013-06-06 01:08:01 PM    25\n",
        "2013-06-06 01:09:01 PM    25\n",
        "2013-06-06 01:11:01 PM    25\n",
        "2013-06-06 01:13:01 PM    25\n",
        "2013-06-06 01:14:01 PM    25\n",
        "2013-06-06 01:15:01 PM    25\n",
        "2013-06-06 01:16:01 PM    25\n",
        "2013-06-06 01:17:01 PM    25\n",
        "2013-06-06 01:18:01 PM    25\n",
        "2013-06-06 01:23:01 PM    25\n",
        "2013-06-06 01:24:01 AM    19\n",
        "...\n",
        "2013-06-14 12:52:02 AM    18\n",
        "2013-06-14 12:53:01 AM    18\n",
        "2013-06-14 12:53:01 PM    15\n",
        "2013-06-14 12:54:01 AM    18\n",
        "2013-06-14 12:54:02 PM    15\n",
        "2013-06-14 12:55:01 AM    18\n",
        "2013-06-14 12:55:01 PM    15\n",
        "2013-06-14 12:56:01 AM    18\n",
        "2013-06-14 12:56:01 PM    15\n",
        "2013-06-14 12:57:01 AM    18\n",
        "2013-06-14 12:57:01 PM    15\n",
        "2013-06-14 12:58:01 AM    18\n",
        "2013-06-14 12:58:01 PM    15\n",
        "2013-06-14 12:59:01 AM    18\n",
        "2013-06-14 12:59:02 PM    15\n",
        "Name: 72, Length: 11372, dtype: int64"
       ]
      }
     ],
     "prompt_number": 3
    },
    {
     "cell_type": "code",
     "collapsed": false,
     "input": [
      "import pandas as pd\n",
      "#this is the most expedient way to setup the dataframe properly, it's a bit of a hack\n",
      "\n",
      "df.to_csv('full_data.csv')\n",
      "df3 = pd.read_csv('full_data.csv', index_col=0, parse_dates=[0])\n",
      "# we need to sort the dataframe so that rows are arranged chronologically\n",
      "df = df3.sort() \n",
      "# diff_df is the change in station occupancy from time period to time period\n",
      "diff_df = df.diff()"
     ],
     "language": "python",
     "metadata": {},
     "outputs": [],
     "prompt_number": 5
    },
    {
     "cell_type": "code",
     "collapsed": false,
     "input": [
      "def my_sum(row):\n",
      "    return row[row >0].sum()\n",
      "starting_trips = diff_df.apply(my_sum, axis=1)\n",
      "def my_sum2(row):\n",
      "    return row[row <0].sum()\n",
      "ending_trips = diff_df.apply(my_sum2, axis=1)"
     ],
     "language": "python",
     "metadata": {},
     "outputs": [],
     "prompt_number": 8
    },
    {
     "cell_type": "code",
     "collapsed": false,
     "input": [
      "print starting_trips.index[2500]\n",
      "print starting_trips.index[3808]\n",
      "print starting_trips[2500:3808].sum()"
     ],
     "language": "python",
     "metadata": {},
     "outputs": [
      {
       "output_type": "stream",
       "stream": "stdout",
       "text": [
        "2013-06-07 22:15:02\n",
        "2013-06-08 22:15:01\n",
        "16852.0\n"
       ]
      }
     ],
     "prompt_number": 9
    },
    {
     "cell_type": "code",
     "collapsed": false,
     "input": [
      "start_11 = 6935\n",
      "start_d, end_d = [8160, 9526]\n",
      "print starting_trips.index[start_d]\n",
      "print starting_trips.index[end_d]\n",
      "print starting_trips[start_d:end_d].sum()\n",
      "print ending_trips[start_d:end_d].sum()\n",
      "import matplotlib.pyplot as plt\n",
      "plt.plot(\n",
      "    starting_trips.index[start_11:end_d], \n",
      "    starting_trips[start_11:end_d])\n",
      "plt.show()\n",
      "plt.plot(\n",
      "    ending_trips.index[start_11:end_d], \n",
      "    ending_trips[start_11:end_d])\n",
      "plt.show()"
     ],
     "language": "python",
     "metadata": {},
     "outputs": [
      {
       "output_type": "stream",
       "stream": "stdout",
       "text": [
        "2013-06-12 05:00:01\n",
        "2013-06-13 05:00:01\n",
        "17665.0\n",
        "-17897.0\n"
       ]
      },
      {
       "output_type": "display_data",
       "png": "[encoded data removed]",
       "text": [
        "<matplotlib.figure.Figure at 0x5d915d0>"
       ]
      },
      {
       "output_type": "display_data",
       "png": "[encoded data removed]",
       "text": [
        "<matplotlib.figure.Figure at 0x44be950>"
       ]
      }
     ],
     "prompt_number": 11
    },
    {
     "cell_type": "code",
     "collapsed": false,
     "input": [
      "import matplotlib.pyplot as plt\n",
      "plt.plot(starting_trips.index, starting_trips)\n",
      "plt.show()\n",
      "plt.plot(starting_trips.index, starting_trips.cumsum())\n",
      "plt.show()"
     ],
     "language": "python",
     "metadata": {},
     "outputs": [
      {
       "output_type": "display_data",
       "png": "[encoded data removed]",
       "text": [
        "<matplotlib.figure.Figure at 0x13d66dd0>"
       ]
      },
      {
       "output_type": "display_data",
       "png": "[encoded data removed]",
       "text": [
        "<matplotlib.figure.Figure at 0x13d09ed0>"
       ]
      }
     ],
     "prompt_number": 12
    },
    {
     "cell_type": "code",
     "collapsed": false,
     "input": [
      "\n",
      "#here we will show an individual stations occupancy\n",
      "seventy_two = df.icol(72)\n",
      "sdeventy_two = diff_df.icol(72)\n",
      "plt.plot(sdeventy_two.index, sdeventy_two)\n",
      "plt.show()\n",
      "plt.plot(sdeventy_two.index, seventy_two)\n",
      "plt.show()\n",
      "plt.plot(sdeventy_two.index, sdeventy_two.cumsum())"
     ],
     "language": "python",
     "metadata": {},
     "outputs": [
      {
       "output_type": "display_data",
       "png": "[encoded data removed]",
       "text": [
        "<matplotlib.figure.Figure at 0x5daaa10>"
       ]
      },
      {
       "output_type": "display_data",
       "png": "[encoded data removed]",
       "text": [
        "<matplotlib.figure.Figure at 0x13d09b50>"
       ]
      },
      {
       "output_type": "pyout",
       "prompt_number": 15,
       "text": [
        "[<matplotlib.lines.Line2D at 0x13d2c150>]"
       ]
      },
      {
       "output_type": "display_data",
       "png": "[encoded data removed]",
       "text": [
        "<matplotlib.figure.Figure at 0x3ce71d0>"
       ]
      }
     ],
     "prompt_number": 15
    },
    {
     "cell_type": "code",
     "collapsed": false,
     "input": [
      "sdeventy_two.index"
     ],
     "language": "python",
     "metadata": {},
     "outputs": [
      {
       "output_type": "pyout",
       "prompt_number": 14,
       "text": [
        "<class 'pandas.tseries.index.DatetimeIndex'>\n",
        "[2013-06-06 01:24:01, ..., 2013-06-14 13:30:01]\n",
        "Length: 11372, Freq: None, Timezone: None"
       ]
      }
     ],
     "prompt_number": 14
    },
    {
     "cell_type": "code",
     "collapsed": false,
     "input": [],
     "language": "python",
     "metadata": {},
     "outputs": []
    }
   ],
   "metadata": {}
  }
 ]
}